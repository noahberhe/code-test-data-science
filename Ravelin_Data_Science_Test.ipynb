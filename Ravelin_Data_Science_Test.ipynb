{
 "cells": [
  {
   "cell_type": "markdown",
   "metadata": {},
   "source": [
    "# Ravelin Data Science Test\n",
    "\n",
    "Below are some json profiles representing fictional customers from an ecommerce company. The profiles contain information about the customer, their orders, their transactions, what payment methods they used and whether the customer is fraudulent or not. Your task is to:\n",
    "- Transform the json profiles into a dataframe of feature vectors.\n",
    "- Provide exploratory analysis of the dataset, and to summarise and explain the key trends in the data, explaining which factors appear to be most important in predicting fraud.\n",
    "- Construct a model to predict if a customer is fraudulent based on their profile.\n",
    "- Report on the models success and show what features are most important in that model."
   ]
  },
  {
   "cell_type": "code",
   "execution_count": 8,
   "metadata": {
    "ExecuteTime": {
     "end_time": "2020-09-07T10:18:43.808171Z",
     "start_time": "2020-09-07T10:18:43.802124Z"
    }
   },
   "outputs": [],
   "source": [
    "import pandas as pd\n",
    "import numpy as np\n",
    "pd.set_option('display.max_rows',200, 'display.max_columns',200)\n",
    "import matplotlib.pyplot as plt"
   ]
  },
  {
   "cell_type": "code",
   "execution_count": 9,
   "metadata": {
    "ExecuteTime": {
     "end_time": "2020-09-07T10:18:43.899557Z",
     "start_time": "2020-09-07T10:18:43.816878Z"
    }
   },
   "outputs": [
    {
     "data": {
      "text/html": [
       "<div>\n",
       "<style scoped>\n",
       "    .dataframe tbody tr th:only-of-type {\n",
       "        vertical-align: middle;\n",
       "    }\n",
       "\n",
       "    .dataframe tbody tr th {\n",
       "        vertical-align: top;\n",
       "    }\n",
       "\n",
       "    .dataframe thead th {\n",
       "        text-align: right;\n",
       "    }\n",
       "</style>\n",
       "<table border=\"1\" class=\"dataframe\">\n",
       "  <thead>\n",
       "    <tr style=\"text-align: right;\">\n",
       "      <th></th>\n",
       "      <th>fraudulent</th>\n",
       "      <th>customer</th>\n",
       "      <th>orders</th>\n",
       "      <th>paymentMethods</th>\n",
       "      <th>transactions</th>\n",
       "    </tr>\n",
       "  </thead>\n",
       "  <tbody>\n",
       "    <tr>\n",
       "      <th>0</th>\n",
       "      <td>False</td>\n",
       "      <td>{'customerEmail': 'josephhoward@yahoo.com', 'c...</td>\n",
       "      <td>[{'orderId': 'vjbdvd', 'orderAmount': 18, 'ord...</td>\n",
       "      <td>[{'paymentMethodId': 'wt07xm68b', 'paymentMeth...</td>\n",
       "      <td>[{'transactionId': 'a9lcj51r', 'orderId': 'vjb...</td>\n",
       "    </tr>\n",
       "    <tr>\n",
       "      <th>1</th>\n",
       "      <td>True</td>\n",
       "      <td>{'customerEmail': 'evansjeffery@yahoo.com', 'c...</td>\n",
       "      <td>[{'orderId': 'nlghpa', 'orderAmount': 45, 'ord...</td>\n",
       "      <td>[{'paymentMethodId': 'y3xp697jx', 'paymentMeth...</td>\n",
       "      <td>[{'transactionId': '5mi94sfw', 'orderId': 'nlg...</td>\n",
       "    </tr>\n",
       "  </tbody>\n",
       "</table>\n",
       "</div>"
      ],
      "text/plain": [
       "   fraudulent                                           customer  \\\n",
       "0       False  {'customerEmail': 'josephhoward@yahoo.com', 'c...   \n",
       "1        True  {'customerEmail': 'evansjeffery@yahoo.com', 'c...   \n",
       "\n",
       "                                              orders  \\\n",
       "0  [{'orderId': 'vjbdvd', 'orderAmount': 18, 'ord...   \n",
       "1  [{'orderId': 'nlghpa', 'orderAmount': 45, 'ord...   \n",
       "\n",
       "                                      paymentMethods  \\\n",
       "0  [{'paymentMethodId': 'wt07xm68b', 'paymentMeth...   \n",
       "1  [{'paymentMethodId': 'y3xp697jx', 'paymentMeth...   \n",
       "\n",
       "                                        transactions  \n",
       "0  [{'transactionId': 'a9lcj51r', 'orderId': 'vjb...  \n",
       "1  [{'transactionId': '5mi94sfw', 'orderId': 'nlg...  "
      ]
     },
     "execution_count": 9,
     "metadata": {},
     "output_type": "execute_result"
    }
   ],
   "source": [
    "df = pd.read_json('customers.json', lines=True)\n",
    "df.head(2)"
   ]
  },
  {
   "cell_type": "markdown",
   "metadata": {},
   "source": [
    "## EDA\n",
    "### Customer\n",
    "- We have seen from looking at the customer details, that if any of these details are used across different customer accounts, they are likely to be fraudulent.\n",
    "- So we can create a flag that checks to see if any of the customer details have been duplicated, to use as a feature."
   ]
  },
  {
   "cell_type": "code",
   "execution_count": 10,
   "metadata": {
    "ExecuteTime": {
     "end_time": "2020-09-07T10:18:44.098159Z",
     "start_time": "2020-09-07T10:18:43.909224Z"
    }
   },
   "outputs": [
    {
     "data": {
      "text/html": [
       "<div>\n",
       "<style scoped>\n",
       "    .dataframe tbody tr th:only-of-type {\n",
       "        vertical-align: middle;\n",
       "    }\n",
       "\n",
       "    .dataframe tbody tr th {\n",
       "        vertical-align: top;\n",
       "    }\n",
       "\n",
       "    .dataframe thead th {\n",
       "        text-align: right;\n",
       "    }\n",
       "</style>\n",
       "<table border=\"1\" class=\"dataframe\">\n",
       "  <thead>\n",
       "    <tr style=\"text-align: right;\">\n",
       "      <th></th>\n",
       "      <th>fraudulent</th>\n",
       "      <th>customer_duped</th>\n",
       "      <th>customer</th>\n",
       "      <th>orders</th>\n",
       "      <th>paymentMethods</th>\n",
       "      <th>transactions</th>\n",
       "    </tr>\n",
       "  </thead>\n",
       "  <tbody>\n",
       "    <tr>\n",
       "      <th>0</th>\n",
       "      <td>False</td>\n",
       "      <td>0</td>\n",
       "      <td>{'customerEmail': 'josephhoward@yahoo.com', 'c...</td>\n",
       "      <td>[{'orderId': 'vjbdvd', 'orderAmount': 18, 'ord...</td>\n",
       "      <td>[{'paymentMethodId': 'wt07xm68b', 'paymentMeth...</td>\n",
       "      <td>[{'transactionId': 'a9lcj51r', 'orderId': 'vjb...</td>\n",
       "    </tr>\n",
       "    <tr>\n",
       "      <th>1</th>\n",
       "      <td>True</td>\n",
       "      <td>0</td>\n",
       "      <td>{'customerEmail': 'evansjeffery@yahoo.com', 'c...</td>\n",
       "      <td>[{'orderId': 'nlghpa', 'orderAmount': 45, 'ord...</td>\n",
       "      <td>[{'paymentMethodId': 'y3xp697jx', 'paymentMeth...</td>\n",
       "      <td>[{'transactionId': '5mi94sfw', 'orderId': 'nlg...</td>\n",
       "    </tr>\n",
       "    <tr>\n",
       "      <th>2</th>\n",
       "      <td>False</td>\n",
       "      <td>0</td>\n",
       "      <td>{'customerEmail': 'andersonwilliam@yahoo.com',...</td>\n",
       "      <td>[{'orderId': 'yk34y2', 'orderAmount': 33, 'ord...</td>\n",
       "      <td>[{'paymentMethodId': '8pneoi03z', 'paymentMeth...</td>\n",
       "      <td>[{'transactionId': 'q3lyvbza', 'orderId': 'yk3...</td>\n",
       "    </tr>\n",
       "    <tr>\n",
       "      <th>3</th>\n",
       "      <td>False</td>\n",
       "      <td>0</td>\n",
       "      <td>{'customerEmail': 'rubenjuarez@yahoo.com', 'cu...</td>\n",
       "      <td>[{'orderId': 'fbz9ep', 'orderAmount': 34, 'ord...</td>\n",
       "      <td>[{'paymentMethodId': 'pdxjdwui4', 'paymentMeth...</td>\n",
       "      <td>[{'transactionId': 'vx4cjc27', 'orderId': 'fbz...</td>\n",
       "    </tr>\n",
       "    <tr>\n",
       "      <th>4</th>\n",
       "      <td>True</td>\n",
       "      <td>0</td>\n",
       "      <td>{'customerEmail': 'uchen@malone.com', 'custome...</td>\n",
       "      <td>[{'orderId': '56h7iw', 'orderAmount': 71, 'ord...</td>\n",
       "      <td>[{'paymentMethodId': 'w1i1zq3rg', 'paymentMeth...</td>\n",
       "      <td>[{'transactionId': 'q8j3dgni', 'orderId': '56h...</td>\n",
       "    </tr>\n",
       "  </tbody>\n",
       "</table>\n",
       "</div>"
      ],
      "text/plain": [
       "   fraudulent  customer_duped  \\\n",
       "0       False               0   \n",
       "1        True               0   \n",
       "2       False               0   \n",
       "3       False               0   \n",
       "4        True               0   \n",
       "\n",
       "                                            customer  \\\n",
       "0  {'customerEmail': 'josephhoward@yahoo.com', 'c...   \n",
       "1  {'customerEmail': 'evansjeffery@yahoo.com', 'c...   \n",
       "2  {'customerEmail': 'andersonwilliam@yahoo.com',...   \n",
       "3  {'customerEmail': 'rubenjuarez@yahoo.com', 'cu...   \n",
       "4  {'customerEmail': 'uchen@malone.com', 'custome...   \n",
       "\n",
       "                                              orders  \\\n",
       "0  [{'orderId': 'vjbdvd', 'orderAmount': 18, 'ord...   \n",
       "1  [{'orderId': 'nlghpa', 'orderAmount': 45, 'ord...   \n",
       "2  [{'orderId': 'yk34y2', 'orderAmount': 33, 'ord...   \n",
       "3  [{'orderId': 'fbz9ep', 'orderAmount': 34, 'ord...   \n",
       "4  [{'orderId': '56h7iw', 'orderAmount': 71, 'ord...   \n",
       "\n",
       "                                      paymentMethods  \\\n",
       "0  [{'paymentMethodId': 'wt07xm68b', 'paymentMeth...   \n",
       "1  [{'paymentMethodId': 'y3xp697jx', 'paymentMeth...   \n",
       "2  [{'paymentMethodId': '8pneoi03z', 'paymentMeth...   \n",
       "3  [{'paymentMethodId': 'pdxjdwui4', 'paymentMeth...   \n",
       "4  [{'paymentMethodId': 'w1i1zq3rg', 'paymentMeth...   \n",
       "\n",
       "                                        transactions  \n",
       "0  [{'transactionId': 'a9lcj51r', 'orderId': 'vjb...  \n",
       "1  [{'transactionId': '5mi94sfw', 'orderId': 'nlg...  \n",
       "2  [{'transactionId': 'q3lyvbza', 'orderId': 'yk3...  \n",
       "3  [{'transactionId': 'vx4cjc27', 'orderId': 'fbz...  \n",
       "4  [{'transactionId': 'q8j3dgni', 'orderId': '56h...  "
      ]
     },
     "execution_count": 10,
     "metadata": {},
     "output_type": "execute_result"
    }
   ],
   "source": [
    "cust = pd.concat([df['fraudulent'], pd.json_normalize(df['customer'])], axis=1)\n",
    "cust.insert(1, 'email_duped', cust.customerEmail.duplicated())\n",
    "cust.insert(2, 'phone_duped', cust.customerPhone.duplicated())\n",
    "cust.insert(3, 'device_duped', cust.customerDevice.duplicated())\n",
    "cust.insert(4, 'ipaddress_duped', cust.customerIPAddress.duplicated())\n",
    "cust.insert(5, 'billingaddress_duped', cust.customerBillingAddress.duplicated())\n",
    "cust.insert(6, 'customer_duped', cust.apply(lambda x: np.sum(x.iloc[1:5]), axis=1))\n",
    "cust.drop(columns=['email_duped', 'phone_duped', 'device_duped', 'ipaddress_duped', 'billingaddress_duped'],\n",
    "          inplace=True)\n",
    "df.insert(1, 'customer_duped', cust.customer_duped)\n",
    "df.head()"
   ]
  },
  {
   "cell_type": "code",
   "execution_count": 11,
   "metadata": {
    "ExecuteTime": {
     "end_time": "2020-09-07T10:18:45.422716Z",
     "start_time": "2020-09-07T10:18:44.104188Z"
    },
    "scrolled": true
   },
   "outputs": [
    {
     "data": {
      "text/html": [
       "<div>\n",
       "<style scoped>\n",
       "    .dataframe tbody tr th:only-of-type {\n",
       "        vertical-align: middle;\n",
       "    }\n",
       "\n",
       "    .dataframe tbody tr th {\n",
       "        vertical-align: top;\n",
       "    }\n",
       "\n",
       "    .dataframe thead th {\n",
       "        text-align: right;\n",
       "    }\n",
       "</style>\n",
       "<table border=\"1\" class=\"dataframe\">\n",
       "  <thead>\n",
       "    <tr style=\"text-align: right;\">\n",
       "      <th></th>\n",
       "      <th>customerId</th>\n",
       "      <th>fraudulent</th>\n",
       "      <th>customer_duped</th>\n",
       "      <th>customer.customerEmail</th>\n",
       "      <th>customer.customerPhone</th>\n",
       "      <th>customer.customerDevice</th>\n",
       "      <th>customer.customerIPAddress</th>\n",
       "      <th>customer.customerBillingAddress</th>\n",
       "      <th>orders.orderId</th>\n",
       "      <th>orders.orderAmount</th>\n",
       "      <th>orders.orderState</th>\n",
       "      <th>orders.orderShippingAddress</th>\n",
       "      <th>paymentMethods.paymentMethodId</th>\n",
       "      <th>paymentMethods.paymentMethodRegistrationFailure</th>\n",
       "      <th>paymentMethods.paymentMethodType</th>\n",
       "      <th>paymentMethods.paymentMethodProvider</th>\n",
       "      <th>paymentMethods.paymentMethodIssuer</th>\n",
       "      <th>transactions.transactionId</th>\n",
       "      <th>transactions.orderId</th>\n",
       "      <th>transactions.paymentMethodId</th>\n",
       "      <th>transactions.transactionAmount</th>\n",
       "      <th>transactions.transactionFailed</th>\n",
       "    </tr>\n",
       "  </thead>\n",
       "  <tbody>\n",
       "    <tr>\n",
       "      <th>0</th>\n",
       "      <td>0</td>\n",
       "      <td>False</td>\n",
       "      <td>0</td>\n",
       "      <td>josephhoward@yahoo.com</td>\n",
       "      <td>400-108-5415</td>\n",
       "      <td>yyeiaxpltf82440jnb3v</td>\n",
       "      <td>8.129.104.40</td>\n",
       "      <td>5493 Jones Islands\\nBrownside, CA 51896</td>\n",
       "      <td>vjbdvd</td>\n",
       "      <td>18.0</td>\n",
       "      <td>pending</td>\n",
       "      <td>5493 Jones Islands\\nBrownside, CA 51896</td>\n",
       "      <td>wt07xm68b</td>\n",
       "      <td>True</td>\n",
       "      <td>card</td>\n",
       "      <td>JCB 16 digit</td>\n",
       "      <td>Citizens First Banks</td>\n",
       "      <td>a9lcj51r</td>\n",
       "      <td>vjbdvd</td>\n",
       "      <td>wt07xm68b</td>\n",
       "      <td>18.0</td>\n",
       "      <td>False</td>\n",
       "    </tr>\n",
       "    <tr>\n",
       "      <th>1</th>\n",
       "      <td>0</td>\n",
       "      <td>False</td>\n",
       "      <td>0</td>\n",
       "      <td>josephhoward@yahoo.com</td>\n",
       "      <td>400-108-5415</td>\n",
       "      <td>yyeiaxpltf82440jnb3v</td>\n",
       "      <td>8.129.104.40</td>\n",
       "      <td>5493 Jones Islands\\nBrownside, CA 51896</td>\n",
       "      <td>vjbdvd</td>\n",
       "      <td>18.0</td>\n",
       "      <td>pending</td>\n",
       "      <td>5493 Jones Islands\\nBrownside, CA 51896</td>\n",
       "      <td>wt07xm68b</td>\n",
       "      <td>True</td>\n",
       "      <td>card</td>\n",
       "      <td>JCB 16 digit</td>\n",
       "      <td>Citizens First Banks</td>\n",
       "      <td>y4wcv03i</td>\n",
       "      <td>yp6x27</td>\n",
       "      <td>wt07xm68b</td>\n",
       "      <td>26.0</td>\n",
       "      <td>False</td>\n",
       "    </tr>\n",
       "    <tr>\n",
       "      <th>2</th>\n",
       "      <td>0</td>\n",
       "      <td>False</td>\n",
       "      <td>0</td>\n",
       "      <td>josephhoward@yahoo.com</td>\n",
       "      <td>400-108-5415</td>\n",
       "      <td>yyeiaxpltf82440jnb3v</td>\n",
       "      <td>8.129.104.40</td>\n",
       "      <td>5493 Jones Islands\\nBrownside, CA 51896</td>\n",
       "      <td>yp6x27</td>\n",
       "      <td>26.0</td>\n",
       "      <td>fulfilled</td>\n",
       "      <td>5493 Jones Islands\\nBrownside, CA 51896</td>\n",
       "      <td>wt07xm68b</td>\n",
       "      <td>True</td>\n",
       "      <td>card</td>\n",
       "      <td>JCB 16 digit</td>\n",
       "      <td>Citizens First Banks</td>\n",
       "      <td>a9lcj51r</td>\n",
       "      <td>vjbdvd</td>\n",
       "      <td>wt07xm68b</td>\n",
       "      <td>18.0</td>\n",
       "      <td>False</td>\n",
       "    </tr>\n",
       "    <tr>\n",
       "      <th>3</th>\n",
       "      <td>0</td>\n",
       "      <td>False</td>\n",
       "      <td>0</td>\n",
       "      <td>josephhoward@yahoo.com</td>\n",
       "      <td>400-108-5415</td>\n",
       "      <td>yyeiaxpltf82440jnb3v</td>\n",
       "      <td>8.129.104.40</td>\n",
       "      <td>5493 Jones Islands\\nBrownside, CA 51896</td>\n",
       "      <td>yp6x27</td>\n",
       "      <td>26.0</td>\n",
       "      <td>fulfilled</td>\n",
       "      <td>5493 Jones Islands\\nBrownside, CA 51896</td>\n",
       "      <td>wt07xm68b</td>\n",
       "      <td>True</td>\n",
       "      <td>card</td>\n",
       "      <td>JCB 16 digit</td>\n",
       "      <td>Citizens First Banks</td>\n",
       "      <td>y4wcv03i</td>\n",
       "      <td>yp6x27</td>\n",
       "      <td>wt07xm68b</td>\n",
       "      <td>26.0</td>\n",
       "      <td>False</td>\n",
       "    </tr>\n",
       "    <tr>\n",
       "      <th>4</th>\n",
       "      <td>1</td>\n",
       "      <td>True</td>\n",
       "      <td>0</td>\n",
       "      <td>evansjeffery@yahoo.com</td>\n",
       "      <td>1-788-091-7546</td>\n",
       "      <td>r0jpm7xaeqqa3kr6mzum</td>\n",
       "      <td>219.173.211.202</td>\n",
       "      <td>356 Elizabeth Inlet Suite 120\\nPort Joshuabury...</td>\n",
       "      <td>nlghpa</td>\n",
       "      <td>45.0</td>\n",
       "      <td>fulfilled</td>\n",
       "      <td>898 Henry Ports\\nNew Keithview, CA 95893-2497</td>\n",
       "      <td>y3xp697jx</td>\n",
       "      <td>True</td>\n",
       "      <td>bitcoin</td>\n",
       "      <td>VISA 16 digit</td>\n",
       "      <td>Solace Banks</td>\n",
       "      <td>5mi94sfw</td>\n",
       "      <td>nlghpa</td>\n",
       "      <td>41ug157xz</td>\n",
       "      <td>45.0</td>\n",
       "      <td>False</td>\n",
       "    </tr>\n",
       "  </tbody>\n",
       "</table>\n",
       "</div>"
      ],
      "text/plain": [
       "   customerId  fraudulent  customer_duped  customer.customerEmail  \\\n",
       "0           0       False               0  josephhoward@yahoo.com   \n",
       "1           0       False               0  josephhoward@yahoo.com   \n",
       "2           0       False               0  josephhoward@yahoo.com   \n",
       "3           0       False               0  josephhoward@yahoo.com   \n",
       "4           1        True               0  evansjeffery@yahoo.com   \n",
       "\n",
       "  customer.customerPhone customer.customerDevice customer.customerIPAddress  \\\n",
       "0           400-108-5415    yyeiaxpltf82440jnb3v               8.129.104.40   \n",
       "1           400-108-5415    yyeiaxpltf82440jnb3v               8.129.104.40   \n",
       "2           400-108-5415    yyeiaxpltf82440jnb3v               8.129.104.40   \n",
       "3           400-108-5415    yyeiaxpltf82440jnb3v               8.129.104.40   \n",
       "4         1-788-091-7546    r0jpm7xaeqqa3kr6mzum            219.173.211.202   \n",
       "\n",
       "                     customer.customerBillingAddress orders.orderId  \\\n",
       "0            5493 Jones Islands\\nBrownside, CA 51896         vjbdvd   \n",
       "1            5493 Jones Islands\\nBrownside, CA 51896         vjbdvd   \n",
       "2            5493 Jones Islands\\nBrownside, CA 51896         yp6x27   \n",
       "3            5493 Jones Islands\\nBrownside, CA 51896         yp6x27   \n",
       "4  356 Elizabeth Inlet Suite 120\\nPort Joshuabury...         nlghpa   \n",
       "\n",
       "   orders.orderAmount orders.orderState  \\\n",
       "0                18.0           pending   \n",
       "1                18.0           pending   \n",
       "2                26.0         fulfilled   \n",
       "3                26.0         fulfilled   \n",
       "4                45.0         fulfilled   \n",
       "\n",
       "                     orders.orderShippingAddress  \\\n",
       "0        5493 Jones Islands\\nBrownside, CA 51896   \n",
       "1        5493 Jones Islands\\nBrownside, CA 51896   \n",
       "2        5493 Jones Islands\\nBrownside, CA 51896   \n",
       "3        5493 Jones Islands\\nBrownside, CA 51896   \n",
       "4  898 Henry Ports\\nNew Keithview, CA 95893-2497   \n",
       "\n",
       "  paymentMethods.paymentMethodId  \\\n",
       "0                      wt07xm68b   \n",
       "1                      wt07xm68b   \n",
       "2                      wt07xm68b   \n",
       "3                      wt07xm68b   \n",
       "4                      y3xp697jx   \n",
       "\n",
       "  paymentMethods.paymentMethodRegistrationFailure  \\\n",
       "0                                            True   \n",
       "1                                            True   \n",
       "2                                            True   \n",
       "3                                            True   \n",
       "4                                            True   \n",
       "\n",
       "  paymentMethods.paymentMethodType paymentMethods.paymentMethodProvider  \\\n",
       "0                             card                         JCB 16 digit   \n",
       "1                             card                         JCB 16 digit   \n",
       "2                             card                         JCB 16 digit   \n",
       "3                             card                         JCB 16 digit   \n",
       "4                          bitcoin                        VISA 16 digit   \n",
       "\n",
       "  paymentMethods.paymentMethodIssuer transactions.transactionId  \\\n",
       "0               Citizens First Banks                   a9lcj51r   \n",
       "1               Citizens First Banks                   y4wcv03i   \n",
       "2               Citizens First Banks                   a9lcj51r   \n",
       "3               Citizens First Banks                   y4wcv03i   \n",
       "4                       Solace Banks                   5mi94sfw   \n",
       "\n",
       "  transactions.orderId transactions.paymentMethodId  \\\n",
       "0               vjbdvd                    wt07xm68b   \n",
       "1               yp6x27                    wt07xm68b   \n",
       "2               vjbdvd                    wt07xm68b   \n",
       "3               yp6x27                    wt07xm68b   \n",
       "4               nlghpa                    41ug157xz   \n",
       "\n",
       "   transactions.transactionAmount transactions.transactionFailed  \n",
       "0                            18.0                          False  \n",
       "1                            26.0                          False  \n",
       "2                            18.0                          False  \n",
       "3                            26.0                          False  \n",
       "4                            45.0                          False  "
      ]
     },
     "execution_count": 11,
     "metadata": {},
     "output_type": "execute_result"
    }
   ],
   "source": [
    "df_norm = df.explode('orders').explode('paymentMethods').explode('transactions').reset_index().rename(columns={'index':'customerId'})\n",
    "df_norm = pd.json_normalize(json.loads(df_norm.to_json(orient='records'))).drop(columns=['orders','transactions','paymentMethods'])\n",
    "df_norm.head()"
   ]
  },
  {
   "cell_type": "markdown",
   "metadata": {},
   "source": [
    "- We have now normalized the nested JSON architecture into a Pandas DataFrame, and added a flag to indicate customer duplication and a unique identifier for each customer record to allow analysis at the customer-level."
   ]
  },
  {
   "cell_type": "markdown",
   "metadata": {},
   "source": [
    "### Orders"
   ]
  },
  {
   "cell_type": "code",
   "execution_count": 12,
   "metadata": {
    "ExecuteTime": {
     "end_time": "2020-09-07T10:18:45.597227Z",
     "start_time": "2020-09-07T10:18:45.432794Z"
    }
   },
   "outputs": [
    {
     "data": {
      "text/html": [
       "<div>\n",
       "<style scoped>\n",
       "    .dataframe tbody tr th:only-of-type {\n",
       "        vertical-align: middle;\n",
       "    }\n",
       "\n",
       "    .dataframe tbody tr th {\n",
       "        vertical-align: top;\n",
       "    }\n",
       "\n",
       "    .dataframe thead th {\n",
       "        text-align: right;\n",
       "    }\n",
       "</style>\n",
       "<table border=\"1\" class=\"dataframe\">\n",
       "  <thead>\n",
       "    <tr style=\"text-align: right;\">\n",
       "      <th></th>\n",
       "      <th>customerId</th>\n",
       "      <th>fraudulent</th>\n",
       "      <th>customer.customerEmail</th>\n",
       "      <th>customer.customerPhone</th>\n",
       "      <th>customer.customerDevice</th>\n",
       "      <th>customer.customerIPAddress</th>\n",
       "      <th>customer.customerBillingAddress</th>\n",
       "      <th>orders.orderId</th>\n",
       "      <th>orders.orderAmount</th>\n",
       "      <th>orders.orderState</th>\n",
       "      <th>orders.orderShippingAddress</th>\n",
       "    </tr>\n",
       "  </thead>\n",
       "  <tbody>\n",
       "    <tr>\n",
       "      <th>0</th>\n",
       "      <td>0</td>\n",
       "      <td>False</td>\n",
       "      <td>josephhoward@yahoo.com</td>\n",
       "      <td>400-108-5415</td>\n",
       "      <td>yyeiaxpltf82440jnb3v</td>\n",
       "      <td>8.129.104.40</td>\n",
       "      <td>5493 Jones Islands\\nBrownside, CA 51896</td>\n",
       "      <td>vjbdvd</td>\n",
       "      <td>18.0</td>\n",
       "      <td>pending</td>\n",
       "      <td>5493 Jones Islands\\nBrownside, CA 51896</td>\n",
       "    </tr>\n",
       "    <tr>\n",
       "      <th>1</th>\n",
       "      <td>0</td>\n",
       "      <td>False</td>\n",
       "      <td>josephhoward@yahoo.com</td>\n",
       "      <td>400-108-5415</td>\n",
       "      <td>yyeiaxpltf82440jnb3v</td>\n",
       "      <td>8.129.104.40</td>\n",
       "      <td>5493 Jones Islands\\nBrownside, CA 51896</td>\n",
       "      <td>yp6x27</td>\n",
       "      <td>26.0</td>\n",
       "      <td>fulfilled</td>\n",
       "      <td>5493 Jones Islands\\nBrownside, CA 51896</td>\n",
       "    </tr>\n",
       "    <tr>\n",
       "      <th>2</th>\n",
       "      <td>1</td>\n",
       "      <td>True</td>\n",
       "      <td>evansjeffery@yahoo.com</td>\n",
       "      <td>1-788-091-7546</td>\n",
       "      <td>r0jpm7xaeqqa3kr6mzum</td>\n",
       "      <td>219.173.211.202</td>\n",
       "      <td>356 Elizabeth Inlet Suite 120\\nPort Joshuabury...</td>\n",
       "      <td>nlghpa</td>\n",
       "      <td>45.0</td>\n",
       "      <td>fulfilled</td>\n",
       "      <td>898 Henry Ports\\nNew Keithview, CA 95893-2497</td>\n",
       "    </tr>\n",
       "    <tr>\n",
       "      <th>3</th>\n",
       "      <td>1</td>\n",
       "      <td>True</td>\n",
       "      <td>evansjeffery@yahoo.com</td>\n",
       "      <td>1-788-091-7546</td>\n",
       "      <td>r0jpm7xaeqqa3kr6mzum</td>\n",
       "      <td>219.173.211.202</td>\n",
       "      <td>356 Elizabeth Inlet Suite 120\\nPort Joshuabury...</td>\n",
       "      <td>uw0eeb</td>\n",
       "      <td>23.0</td>\n",
       "      <td>fulfilled</td>\n",
       "      <td>356 Elizabeth Inlet Suite 120\\nPort Joshuabury...</td>\n",
       "    </tr>\n",
       "    <tr>\n",
       "      <th>4</th>\n",
       "      <td>1</td>\n",
       "      <td>True</td>\n",
       "      <td>evansjeffery@yahoo.com</td>\n",
       "      <td>1-788-091-7546</td>\n",
       "      <td>r0jpm7xaeqqa3kr6mzum</td>\n",
       "      <td>219.173.211.202</td>\n",
       "      <td>356 Elizabeth Inlet Suite 120\\nPort Joshuabury...</td>\n",
       "      <td>bn44oh</td>\n",
       "      <td>43.0</td>\n",
       "      <td>fulfilled</td>\n",
       "      <td>5093 Bryan Forks\\nJoshuaton, FM 01565-9801</td>\n",
       "    </tr>\n",
       "  </tbody>\n",
       "</table>\n",
       "</div>"
      ],
      "text/plain": [
       "   customerId  fraudulent  customer.customerEmail customer.customerPhone  \\\n",
       "0           0       False  josephhoward@yahoo.com           400-108-5415   \n",
       "1           0       False  josephhoward@yahoo.com           400-108-5415   \n",
       "2           1        True  evansjeffery@yahoo.com         1-788-091-7546   \n",
       "3           1        True  evansjeffery@yahoo.com         1-788-091-7546   \n",
       "4           1        True  evansjeffery@yahoo.com         1-788-091-7546   \n",
       "\n",
       "  customer.customerDevice customer.customerIPAddress  \\\n",
       "0    yyeiaxpltf82440jnb3v               8.129.104.40   \n",
       "1    yyeiaxpltf82440jnb3v               8.129.104.40   \n",
       "2    r0jpm7xaeqqa3kr6mzum            219.173.211.202   \n",
       "3    r0jpm7xaeqqa3kr6mzum            219.173.211.202   \n",
       "4    r0jpm7xaeqqa3kr6mzum            219.173.211.202   \n",
       "\n",
       "                     customer.customerBillingAddress orders.orderId  \\\n",
       "0            5493 Jones Islands\\nBrownside, CA 51896         vjbdvd   \n",
       "1            5493 Jones Islands\\nBrownside, CA 51896         yp6x27   \n",
       "2  356 Elizabeth Inlet Suite 120\\nPort Joshuabury...         nlghpa   \n",
       "3  356 Elizabeth Inlet Suite 120\\nPort Joshuabury...         uw0eeb   \n",
       "4  356 Elizabeth Inlet Suite 120\\nPort Joshuabury...         bn44oh   \n",
       "\n",
       "   orders.orderAmount orders.orderState  \\\n",
       "0                18.0           pending   \n",
       "1                26.0         fulfilled   \n",
       "2                45.0         fulfilled   \n",
       "3                23.0         fulfilled   \n",
       "4                43.0         fulfilled   \n",
       "\n",
       "                         orders.orderShippingAddress  \n",
       "0            5493 Jones Islands\\nBrownside, CA 51896  \n",
       "1            5493 Jones Islands\\nBrownside, CA 51896  \n",
       "2      898 Henry Ports\\nNew Keithview, CA 95893-2497  \n",
       "3  356 Elizabeth Inlet Suite 120\\nPort Joshuabury...  \n",
       "4         5093 Bryan Forks\\nJoshuaton, FM 01565-9801  "
      ]
     },
     "execution_count": 12,
     "metadata": {},
     "output_type": "execute_result"
    }
   ],
   "source": [
    "orders = df[['fraudulent','customer','orders']]\n",
    "orders = orders.explode('orders').reset_index().rename(columns={'index':'customerId'})\n",
    "orders = pd.json_normalize(json.loads(orders.to_json(orient='records'))).drop(columns=['orders'])\n",
    "\n",
    "orders.head()"
   ]
  },
  {
   "cell_type": "code",
   "execution_count": 13,
   "metadata": {
    "ExecuteTime": {
     "end_time": "2020-09-07T10:18:45.632760Z",
     "start_time": "2020-09-07T10:18:45.602161Z"
    }
   },
   "outputs": [
    {
     "data": {
      "text/html": [
       "<div>\n",
       "<style scoped>\n",
       "    .dataframe tbody tr th:only-of-type {\n",
       "        vertical-align: middle;\n",
       "    }\n",
       "\n",
       "    .dataframe tbody tr th {\n",
       "        vertical-align: top;\n",
       "    }\n",
       "\n",
       "    .dataframe thead th {\n",
       "        text-align: right;\n",
       "    }\n",
       "</style>\n",
       "<table border=\"1\" class=\"dataframe\">\n",
       "  <thead>\n",
       "    <tr style=\"text-align: right;\">\n",
       "      <th></th>\n",
       "      <th></th>\n",
       "      <th>orders.orderId</th>\n",
       "      <th>orders.orderAmount</th>\n",
       "    </tr>\n",
       "    <tr>\n",
       "      <th>orders.orderState</th>\n",
       "      <th>fraudulent</th>\n",
       "      <th></th>\n",
       "      <th></th>\n",
       "    </tr>\n",
       "  </thead>\n",
       "  <tbody>\n",
       "    <tr>\n",
       "      <th rowspan=\"2\" valign=\"top\">failed</th>\n",
       "      <th>False</th>\n",
       "      <td>27</td>\n",
       "      <td>837.0</td>\n",
       "    </tr>\n",
       "    <tr>\n",
       "      <th>True</th>\n",
       "      <td>23</td>\n",
       "      <td>986.0</td>\n",
       "    </tr>\n",
       "    <tr>\n",
       "      <th rowspan=\"2\" valign=\"top\">fulfilled</th>\n",
       "      <th>False</th>\n",
       "      <td>223</td>\n",
       "      <td>6486.0</td>\n",
       "    </tr>\n",
       "    <tr>\n",
       "      <th>True</th>\n",
       "      <td>177</td>\n",
       "      <td>7712.0</td>\n",
       "    </tr>\n",
       "    <tr>\n",
       "      <th rowspan=\"2\" valign=\"top\">pending</th>\n",
       "      <th>False</th>\n",
       "      <td>17</td>\n",
       "      <td>517.0</td>\n",
       "    </tr>\n",
       "    <tr>\n",
       "      <th>True</th>\n",
       "      <td>11</td>\n",
       "      <td>482.0</td>\n",
       "    </tr>\n",
       "  </tbody>\n",
       "</table>\n",
       "</div>"
      ],
      "text/plain": [
       "                              orders.orderId  orders.orderAmount\n",
       "orders.orderState fraudulent                                    \n",
       "failed            False                   27               837.0\n",
       "                  True                    23               986.0\n",
       "fulfilled         False                  223              6486.0\n",
       "                  True                   177              7712.0\n",
       "pending           False                   17               517.0\n",
       "                  True                    11               482.0"
      ]
     },
     "execution_count": 13,
     "metadata": {},
     "output_type": "execute_result"
    }
   ],
   "source": [
    "orders.groupby(['orders.orderState','fraudulent']).agg({'orders.orderId':'count',\n",
    "                                                        'orders.orderAmount':'sum'})"
   ]
  },
  {
   "cell_type": "markdown",
   "metadata": {},
   "source": [
    "- Order State doesn't seem to be a predictor of whether an order is fraudulent, the count of orderID per state is roughly the same for both Fraudulent and non-Fraudulent customers"
   ]
  },
  {
   "cell_type": "code",
   "execution_count": 14,
   "metadata": {
    "ExecuteTime": {
     "end_time": "2020-09-07T10:18:46.417859Z",
     "start_time": "2020-09-07T10:18:45.638835Z"
    }
   },
   "outputs": [
    {
     "data": {
      "image/png": "[encoded data removed]",
      "text/plain": [
       "<Figure size 1008x288 with 2 Axes>"
      ]
     },
     "metadata": {
      "needs_background": "light"
     },
     "output_type": "display_data"
    }
   ],
   "source": [
    "fig, ax = plt.subplots(1,2, figsize=(14,4))\n",
    "orders[orders.fraudulent == False].hist('orders.orderAmount', bins=40, ax=ax[0])\n",
    "orders[orders.fraudulent == True].hist('orders.orderAmount', bins=40, ax=ax[1])\n",
    "ax[0].set_title('Non-Fraudulent Orders')\n",
    "ax[0].set_xlabel('Order Amounts')\n",
    "ax[1].set_title('Fraudulent Orders')\n",
    "ax[1].set_xlabel('Order Amounts');"
   ]
  },
  {
   "cell_type": "markdown",
   "metadata": {},
   "source": [
    "- The Order Amount on Orders placed by Fraudulent customers are much larger, it appears that non-Fraudulent were restricted to smaller order amount, ie. < 50.\n",
    "- We add 2 columns here: avg and max order amount per customer to serve as features for our model"
   ]
  },
  {
   "cell_type": "code",
   "execution_count": 15,
   "metadata": {
    "ExecuteTime": {
     "end_time": "2020-09-07T10:18:46.450513Z",
     "start_time": "2020-09-07T10:18:46.422060Z"
    }
   },
   "outputs": [
    {
     "data": {
      "text/html": [
       "<div>\n",
       "<style scoped>\n",
       "    .dataframe tbody tr th:only-of-type {\n",
       "        vertical-align: middle;\n",
       "    }\n",
       "\n",
       "    .dataframe tbody tr th {\n",
       "        vertical-align: top;\n",
       "    }\n",
       "\n",
       "    .dataframe thead th {\n",
       "        text-align: right;\n",
       "    }\n",
       "</style>\n",
       "<table border=\"1\" class=\"dataframe\">\n",
       "  <thead>\n",
       "    <tr style=\"text-align: right;\">\n",
       "      <th></th>\n",
       "      <th>customerId</th>\n",
       "      <th>fraudulent</th>\n",
       "      <th>customer.customerEmail</th>\n",
       "      <th>customer.customerPhone</th>\n",
       "      <th>customer.customerDevice</th>\n",
       "      <th>customer.customerIPAddress</th>\n",
       "      <th>customer.customerBillingAddress</th>\n",
       "      <th>orders.orderId</th>\n",
       "      <th>orders.orderAmount</th>\n",
       "      <th>orders.orderState</th>\n",
       "      <th>orders.orderShippingAddress</th>\n",
       "    </tr>\n",
       "  </thead>\n",
       "  <tbody>\n",
       "    <tr>\n",
       "      <th>0</th>\n",
       "      <td>0</td>\n",
       "      <td>False</td>\n",
       "      <td>josephhoward@yahoo.com</td>\n",
       "      <td>400-108-5415</td>\n",
       "      <td>yyeiaxpltf82440jnb3v</td>\n",
       "      <td>8.129.104.40</td>\n",
       "      <td>5493 Jones Islands\\nBrownside, CA 51896</td>\n",
       "      <td>vjbdvd</td>\n",
       "      <td>18.0</td>\n",
       "      <td>pending</td>\n",
       "      <td>5493 Jones Islands\\nBrownside, CA 51896</td>\n",
       "    </tr>\n",
       "    <tr>\n",
       "      <th>1</th>\n",
       "      <td>0</td>\n",
       "      <td>False</td>\n",
       "      <td>josephhoward@yahoo.com</td>\n",
       "      <td>400-108-5415</td>\n",
       "      <td>yyeiaxpltf82440jnb3v</td>\n",
       "      <td>8.129.104.40</td>\n",
       "      <td>5493 Jones Islands\\nBrownside, CA 51896</td>\n",
       "      <td>yp6x27</td>\n",
       "      <td>26.0</td>\n",
       "      <td>fulfilled</td>\n",
       "      <td>5493 Jones Islands\\nBrownside, CA 51896</td>\n",
       "    </tr>\n",
       "    <tr>\n",
       "      <th>2</th>\n",
       "      <td>1</td>\n",
       "      <td>True</td>\n",
       "      <td>evansjeffery@yahoo.com</td>\n",
       "      <td>1-788-091-7546</td>\n",
       "      <td>r0jpm7xaeqqa3kr6mzum</td>\n",
       "      <td>219.173.211.202</td>\n",
       "      <td>356 Elizabeth Inlet Suite 120\\nPort Joshuabury...</td>\n",
       "      <td>nlghpa</td>\n",
       "      <td>45.0</td>\n",
       "      <td>fulfilled</td>\n",
       "      <td>898 Henry Ports\\nNew Keithview, CA 95893-2497</td>\n",
       "    </tr>\n",
       "    <tr>\n",
       "      <th>3</th>\n",
       "      <td>1</td>\n",
       "      <td>True</td>\n",
       "      <td>evansjeffery@yahoo.com</td>\n",
       "      <td>1-788-091-7546</td>\n",
       "      <td>r0jpm7xaeqqa3kr6mzum</td>\n",
       "      <td>219.173.211.202</td>\n",
       "      <td>356 Elizabeth Inlet Suite 120\\nPort Joshuabury...</td>\n",
       "      <td>uw0eeb</td>\n",
       "      <td>23.0</td>\n",
       "      <td>fulfilled</td>\n",
       "      <td>356 Elizabeth Inlet Suite 120\\nPort Joshuabury...</td>\n",
       "    </tr>\n",
       "    <tr>\n",
       "      <th>4</th>\n",
       "      <td>1</td>\n",
       "      <td>True</td>\n",
       "      <td>evansjeffery@yahoo.com</td>\n",
       "      <td>1-788-091-7546</td>\n",
       "      <td>r0jpm7xaeqqa3kr6mzum</td>\n",
       "      <td>219.173.211.202</td>\n",
       "      <td>356 Elizabeth Inlet Suite 120\\nPort Joshuabury...</td>\n",
       "      <td>bn44oh</td>\n",
       "      <td>43.0</td>\n",
       "      <td>fulfilled</td>\n",
       "      <td>5093 Bryan Forks\\nJoshuaton, FM 01565-9801</td>\n",
       "    </tr>\n",
       "  </tbody>\n",
       "</table>\n",
       "</div>"
      ],
      "text/plain": [
       "   customerId  fraudulent  customer.customerEmail customer.customerPhone  \\\n",
       "0           0       False  josephhoward@yahoo.com           400-108-5415   \n",
       "1           0       False  josephhoward@yahoo.com           400-108-5415   \n",
       "2           1        True  evansjeffery@yahoo.com         1-788-091-7546   \n",
       "3           1        True  evansjeffery@yahoo.com         1-788-091-7546   \n",
       "4           1        True  evansjeffery@yahoo.com         1-788-091-7546   \n",
       "\n",
       "  customer.customerDevice customer.customerIPAddress  \\\n",
       "0    yyeiaxpltf82440jnb3v               8.129.104.40   \n",
       "1    yyeiaxpltf82440jnb3v               8.129.104.40   \n",
       "2    r0jpm7xaeqqa3kr6mzum            219.173.211.202   \n",
       "3    r0jpm7xaeqqa3kr6mzum            219.173.211.202   \n",
       "4    r0jpm7xaeqqa3kr6mzum            219.173.211.202   \n",
       "\n",
       "                     customer.customerBillingAddress orders.orderId  \\\n",
       "0            5493 Jones Islands\\nBrownside, CA 51896         vjbdvd   \n",
       "1            5493 Jones Islands\\nBrownside, CA 51896         yp6x27   \n",
       "2  356 Elizabeth Inlet Suite 120\\nPort Joshuabury...         nlghpa   \n",
       "3  356 Elizabeth Inlet Suite 120\\nPort Joshuabury...         uw0eeb   \n",
       "4  356 Elizabeth Inlet Suite 120\\nPort Joshuabury...         bn44oh   \n",
       "\n",
       "   orders.orderAmount orders.orderState  \\\n",
       "0                18.0           pending   \n",
       "1                26.0         fulfilled   \n",
       "2                45.0         fulfilled   \n",
       "3                23.0         fulfilled   \n",
       "4                43.0         fulfilled   \n",
       "\n",
       "                         orders.orderShippingAddress  \n",
       "0            5493 Jones Islands\\nBrownside, CA 51896  \n",
       "1            5493 Jones Islands\\nBrownside, CA 51896  \n",
       "2      898 Henry Ports\\nNew Keithview, CA 95893-2497  \n",
       "3  356 Elizabeth Inlet Suite 120\\nPort Joshuabury...  \n",
       "4         5093 Bryan Forks\\nJoshuaton, FM 01565-9801  "
      ]
     },
     "execution_count": 15,
     "metadata": {},
     "output_type": "execute_result"
    }
   ],
   "source": [
    "orders.head()"
   ]
  },
  {
   "cell_type": "code",
   "execution_count": 16,
   "metadata": {
    "ExecuteTime": {
     "end_time": "2020-09-07T10:18:46.521959Z",
     "start_time": "2020-09-07T10:18:46.454842Z"
    }
   },
   "outputs": [
    {
     "data": {
      "text/html": [
       "<div>\n",
       "<style scoped>\n",
       "    .dataframe tbody tr th:only-of-type {\n",
       "        vertical-align: middle;\n",
       "    }\n",
       "\n",
       "    .dataframe tbody tr th {\n",
       "        vertical-align: top;\n",
       "    }\n",
       "\n",
       "    .dataframe thead th {\n",
       "        text-align: right;\n",
       "    }\n",
       "</style>\n",
       "<table border=\"1\" class=\"dataframe\">\n",
       "  <thead>\n",
       "    <tr style=\"text-align: right;\">\n",
       "      <th></th>\n",
       "      <th>orderamount_avg</th>\n",
       "      <th>orderamount_max</th>\n",
       "    </tr>\n",
       "    <tr>\n",
       "      <th>customerId</th>\n",
       "      <th></th>\n",
       "      <th></th>\n",
       "    </tr>\n",
       "  </thead>\n",
       "  <tbody>\n",
       "    <tr>\n",
       "      <th>0</th>\n",
       "      <td>22.000000</td>\n",
       "      <td>26.0</td>\n",
       "    </tr>\n",
       "    <tr>\n",
       "      <th>1</th>\n",
       "      <td>37.000000</td>\n",
       "      <td>45.0</td>\n",
       "    </tr>\n",
       "    <tr>\n",
       "      <th>2</th>\n",
       "      <td>27.333333</td>\n",
       "      <td>33.0</td>\n",
       "    </tr>\n",
       "    <tr>\n",
       "      <th>3</th>\n",
       "      <td>28.333333</td>\n",
       "      <td>34.0</td>\n",
       "    </tr>\n",
       "    <tr>\n",
       "      <th>4</th>\n",
       "      <td>58.714286</td>\n",
       "      <td>71.0</td>\n",
       "    </tr>\n",
       "  </tbody>\n",
       "</table>\n",
       "</div>"
      ],
      "text/plain": [
       "            orderamount_avg  orderamount_max\n",
       "customerId                                  \n",
       "0                 22.000000             26.0\n",
       "1                 37.000000             45.0\n",
       "2                 27.333333             33.0\n",
       "3                 28.333333             34.0\n",
       "4                 58.714286             71.0"
      ]
     },
     "execution_count": 16,
     "metadata": {},
     "output_type": "execute_result"
    }
   ],
   "source": [
    "order_amount = orders.groupby('customerId').agg({'orders.orderAmount':[np.average,np.max]}).droplevel(0, axis=1)\n",
    "order_amount.rename(columns={'average':'orderamount_avg','amax':'orderamount_max'}, inplace=True)\n",
    "order_amount.head()"
   ]
  },
  {
   "cell_type": "code",
   "execution_count": 17,
   "metadata": {
    "ExecuteTime": {
     "end_time": "2020-09-07T10:18:46.594299Z",
     "start_time": "2020-09-07T10:18:46.529008Z"
    }
   },
   "outputs": [
    {
     "data": {
      "text/html": [
       "<div>\n",
       "<style scoped>\n",
       "    .dataframe tbody tr th:only-of-type {\n",
       "        vertical-align: middle;\n",
       "    }\n",
       "\n",
       "    .dataframe tbody tr th {\n",
       "        vertical-align: top;\n",
       "    }\n",
       "\n",
       "    .dataframe thead th {\n",
       "        text-align: right;\n",
       "    }\n",
       "</style>\n",
       "<table border=\"1\" class=\"dataframe\">\n",
       "  <thead>\n",
       "    <tr style=\"text-align: right;\">\n",
       "      <th></th>\n",
       "      <th></th>\n",
       "      <th>orders.orderId</th>\n",
       "      <th>orders.orderAmount</th>\n",
       "    </tr>\n",
       "    <tr>\n",
       "      <th>sameAsBilling</th>\n",
       "      <th>fraudulent</th>\n",
       "      <th></th>\n",
       "      <th></th>\n",
       "    </tr>\n",
       "  </thead>\n",
       "  <tbody>\n",
       "    <tr>\n",
       "      <th rowspan=\"2\" valign=\"top\">False</th>\n",
       "      <th>False</th>\n",
       "      <td>69</td>\n",
       "      <td>1965.0</td>\n",
       "    </tr>\n",
       "    <tr>\n",
       "      <th>True</th>\n",
       "      <td>81</td>\n",
       "      <td>3402.0</td>\n",
       "    </tr>\n",
       "    <tr>\n",
       "      <th rowspan=\"2\" valign=\"top\">True</th>\n",
       "      <th>False</th>\n",
       "      <td>198</td>\n",
       "      <td>5875.0</td>\n",
       "    </tr>\n",
       "    <tr>\n",
       "      <th>True</th>\n",
       "      <td>130</td>\n",
       "      <td>5778.0</td>\n",
       "    </tr>\n",
       "  </tbody>\n",
       "</table>\n",
       "</div>"
      ],
      "text/plain": [
       "                          orders.orderId  orders.orderAmount\n",
       "sameAsBilling fraudulent                                    \n",
       "False         False                   69              1965.0\n",
       "              True                    81              3402.0\n",
       "True          False                  198              5875.0\n",
       "              True                   130              5778.0"
      ]
     },
     "execution_count": 17,
     "metadata": {},
     "output_type": "execute_result"
    }
   ],
   "source": [
    "orders['sameAsBilling'] = orders.apply(lambda x: True if (x['customer.customerBillingAddress']==x['orders.orderShippingAddress']) else False,\n",
    "                                       axis=1)\n",
    "orders.groupby(['sameAsBilling','fraudulent']).agg({'orders.orderId':'count',\n",
    "                                                    'orders.orderAmount':'sum'})"
   ]
  },
  {
   "cell_type": "markdown",
   "metadata": {},
   "source": [
    "- Whether or not the customer billing address was the same as order shipping address didn't appear to have a bearing on whether an order was fraudulent"
   ]
  },
  {
   "cell_type": "markdown",
   "metadata": {},
   "source": [
    "### Payment Methods"
   ]
  },
  {
   "cell_type": "code",
   "execution_count": 18,
   "metadata": {
    "ExecuteTime": {
     "end_time": "2020-09-07T10:18:46.686575Z",
     "start_time": "2020-09-07T10:18:46.598113Z"
    }
   },
   "outputs": [
    {
     "data": {
      "text/html": [
       "<div>\n",
       "<style scoped>\n",
       "    .dataframe tbody tr th:only-of-type {\n",
       "        vertical-align: middle;\n",
       "    }\n",
       "\n",
       "    .dataframe tbody tr th {\n",
       "        vertical-align: top;\n",
       "    }\n",
       "\n",
       "    .dataframe thead th {\n",
       "        text-align: right;\n",
       "    }\n",
       "</style>\n",
       "<table border=\"1\" class=\"dataframe\">\n",
       "  <thead>\n",
       "    <tr style=\"text-align: right;\">\n",
       "      <th></th>\n",
       "      <th>customerId</th>\n",
       "      <th>fraudulent</th>\n",
       "      <th>customer.customerEmail</th>\n",
       "      <th>customer.customerPhone</th>\n",
       "      <th>customer.customerDevice</th>\n",
       "      <th>customer.customerIPAddress</th>\n",
       "      <th>customer.customerBillingAddress</th>\n",
       "      <th>paymentMethods.paymentMethodId</th>\n",
       "      <th>paymentMethods.paymentMethodRegistrationFailure</th>\n",
       "      <th>paymentMethods.paymentMethodType</th>\n",
       "      <th>paymentMethods.paymentMethodProvider</th>\n",
       "      <th>paymentMethods.paymentMethodIssuer</th>\n",
       "    </tr>\n",
       "  </thead>\n",
       "  <tbody>\n",
       "    <tr>\n",
       "      <th>0</th>\n",
       "      <td>0</td>\n",
       "      <td>False</td>\n",
       "      <td>josephhoward@yahoo.com</td>\n",
       "      <td>400-108-5415</td>\n",
       "      <td>yyeiaxpltf82440jnb3v</td>\n",
       "      <td>8.129.104.40</td>\n",
       "      <td>5493 Jones Islands\\nBrownside, CA 51896</td>\n",
       "      <td>wt07xm68b</td>\n",
       "      <td>True</td>\n",
       "      <td>card</td>\n",
       "      <td>JCB 16 digit</td>\n",
       "      <td>Citizens First Banks</td>\n",
       "    </tr>\n",
       "    <tr>\n",
       "      <th>1</th>\n",
       "      <td>1</td>\n",
       "      <td>True</td>\n",
       "      <td>evansjeffery@yahoo.com</td>\n",
       "      <td>1-788-091-7546</td>\n",
       "      <td>r0jpm7xaeqqa3kr6mzum</td>\n",
       "      <td>219.173.211.202</td>\n",
       "      <td>356 Elizabeth Inlet Suite 120\\nPort Joshuabury...</td>\n",
       "      <td>y3xp697jx</td>\n",
       "      <td>True</td>\n",
       "      <td>bitcoin</td>\n",
       "      <td>VISA 16 digit</td>\n",
       "      <td>Solace Banks</td>\n",
       "    </tr>\n",
       "    <tr>\n",
       "      <th>2</th>\n",
       "      <td>1</td>\n",
       "      <td>True</td>\n",
       "      <td>evansjeffery@yahoo.com</td>\n",
       "      <td>1-788-091-7546</td>\n",
       "      <td>r0jpm7xaeqqa3kr6mzum</td>\n",
       "      <td>219.173.211.202</td>\n",
       "      <td>356 Elizabeth Inlet Suite 120\\nPort Joshuabury...</td>\n",
       "      <td>6krszxc05</td>\n",
       "      <td>False</td>\n",
       "      <td>card</td>\n",
       "      <td>VISA 16 digit</td>\n",
       "      <td>Vertex Bancorp</td>\n",
       "    </tr>\n",
       "    <tr>\n",
       "      <th>3</th>\n",
       "      <td>1</td>\n",
       "      <td>True</td>\n",
       "      <td>evansjeffery@yahoo.com</td>\n",
       "      <td>1-788-091-7546</td>\n",
       "      <td>r0jpm7xaeqqa3kr6mzum</td>\n",
       "      <td>219.173.211.202</td>\n",
       "      <td>356 Elizabeth Inlet Suite 120\\nPort Joshuabury...</td>\n",
       "      <td>5z1szj2he</td>\n",
       "      <td>False</td>\n",
       "      <td>card</td>\n",
       "      <td>Diners Club / Carte Blanche</td>\n",
       "      <td>His Majesty Bank Corp.</td>\n",
       "    </tr>\n",
       "    <tr>\n",
       "      <th>4</th>\n",
       "      <td>1</td>\n",
       "      <td>True</td>\n",
       "      <td>evansjeffery@yahoo.com</td>\n",
       "      <td>1-788-091-7546</td>\n",
       "      <td>r0jpm7xaeqqa3kr6mzum</td>\n",
       "      <td>219.173.211.202</td>\n",
       "      <td>356 Elizabeth Inlet Suite 120\\nPort Joshuabury...</td>\n",
       "      <td>m52tx8e1s</td>\n",
       "      <td>False</td>\n",
       "      <td>card</td>\n",
       "      <td>Mastercard</td>\n",
       "      <td>Vertex Bancorp</td>\n",
       "    </tr>\n",
       "  </tbody>\n",
       "</table>\n",
       "</div>"
      ],
      "text/plain": [
       "   customerId  fraudulent  customer.customerEmail customer.customerPhone  \\\n",
       "0           0       False  josephhoward@yahoo.com           400-108-5415   \n",
       "1           1        True  evansjeffery@yahoo.com         1-788-091-7546   \n",
       "2           1        True  evansjeffery@yahoo.com         1-788-091-7546   \n",
       "3           1        True  evansjeffery@yahoo.com         1-788-091-7546   \n",
       "4           1        True  evansjeffery@yahoo.com         1-788-091-7546   \n",
       "\n",
       "  customer.customerDevice customer.customerIPAddress  \\\n",
       "0    yyeiaxpltf82440jnb3v               8.129.104.40   \n",
       "1    r0jpm7xaeqqa3kr6mzum            219.173.211.202   \n",
       "2    r0jpm7xaeqqa3kr6mzum            219.173.211.202   \n",
       "3    r0jpm7xaeqqa3kr6mzum            219.173.211.202   \n",
       "4    r0jpm7xaeqqa3kr6mzum            219.173.211.202   \n",
       "\n",
       "                     customer.customerBillingAddress  \\\n",
       "0            5493 Jones Islands\\nBrownside, CA 51896   \n",
       "1  356 Elizabeth Inlet Suite 120\\nPort Joshuabury...   \n",
       "2  356 Elizabeth Inlet Suite 120\\nPort Joshuabury...   \n",
       "3  356 Elizabeth Inlet Suite 120\\nPort Joshuabury...   \n",
       "4  356 Elizabeth Inlet Suite 120\\nPort Joshuabury...   \n",
       "\n",
       "  paymentMethods.paymentMethodId  \\\n",
       "0                      wt07xm68b   \n",
       "1                      y3xp697jx   \n",
       "2                      6krszxc05   \n",
       "3                      5z1szj2he   \n",
       "4                      m52tx8e1s   \n",
       "\n",
       "  paymentMethods.paymentMethodRegistrationFailure  \\\n",
       "0                                            True   \n",
       "1                                            True   \n",
       "2                                           False   \n",
       "3                                           False   \n",
       "4                                           False   \n",
       "\n",
       "  paymentMethods.paymentMethodType paymentMethods.paymentMethodProvider  \\\n",
       "0                             card                         JCB 16 digit   \n",
       "1                          bitcoin                        VISA 16 digit   \n",
       "2                             card                        VISA 16 digit   \n",
       "3                             card          Diners Club / Carte Blanche   \n",
       "4                             card                           Mastercard   \n",
       "\n",
       "  paymentMethods.paymentMethodIssuer  \n",
       "0               Citizens First Banks  \n",
       "1                       Solace Banks  \n",
       "2                     Vertex Bancorp  \n",
       "3             His Majesty Bank Corp.  \n",
       "4                     Vertex Bancorp  "
      ]
     },
     "execution_count": 18,
     "metadata": {},
     "output_type": "execute_result"
    }
   ],
   "source": [
    "payment = df[['fraudulent','customer','paymentMethods']]\n",
    "payment = payment.explode('paymentMethods').reset_index().rename(columns={'index':'customerId'})\n",
    "payment = pd.json_normalize(json.loads(payment.to_json(orient='records'))).drop(columns=['paymentMethods'])\n",
    "\n",
    "payment.head()"
   ]
  },
  {
   "cell_type": "code",
   "execution_count": 19,
   "metadata": {
    "ExecuteTime": {
     "end_time": "2020-09-07T10:18:46.909030Z",
     "start_time": "2020-09-07T10:18:46.691762Z"
    },
    "scrolled": true
   },
   "outputs": [
    {
     "data": {
      "image/png": "[encoded data removed]",
      "text/plain": [
       "<Figure size 720x288 with 2 Axes>"
      ]
     },
     "metadata": {},
     "output_type": "display_data"
    }
   ],
   "source": [
    "payment_genuine = payment[payment['fraudulent'] == False]\n",
    "payment_fraud = payment[payment['fraudulent'] == True]\n",
    "\n",
    "fig, ax = plt.subplots(1,2,figsize=(10,4))\n",
    "method = payment_genuine.groupby('paymentMethods.paymentMethodType').agg({'paymentMethods.paymentMethodId':'count'})\n",
    "ax[0].pie(method['paymentMethods.paymentMethodId'], labels=method.index, autopct='%1.1f%%')\n",
    "ax[0].set_title('Non-fraudulent orders')\n",
    "method = payment_fraud.groupby('paymentMethods.paymentMethodType').agg({'paymentMethods.paymentMethodId':'count'})\n",
    "ax[1].pie(method['paymentMethods.paymentMethodId'], labels=method.index, autopct='%1.1f%%')\n",
    "ax[1].set_title('Fraudulent orders');"
   ]
  },
  {
   "cell_type": "code",
   "execution_count": 20,
   "metadata": {
    "ExecuteTime": {
     "end_time": "2020-09-07T10:18:46.941804Z",
     "start_time": "2020-09-07T10:18:46.915112Z"
    }
   },
   "outputs": [
    {
     "data": {
      "text/html": [
       "<div>\n",
       "<style scoped>\n",
       "    .dataframe tbody tr th:only-of-type {\n",
       "        vertical-align: middle;\n",
       "    }\n",
       "\n",
       "    .dataframe tbody tr th {\n",
       "        vertical-align: top;\n",
       "    }\n",
       "\n",
       "    .dataframe thead th {\n",
       "        text-align: right;\n",
       "    }\n",
       "</style>\n",
       "<table border=\"1\" class=\"dataframe\">\n",
       "  <thead>\n",
       "    <tr style=\"text-align: right;\">\n",
       "      <th></th>\n",
       "      <th></th>\n",
       "      <th>paymentMethods.paymentMethodId</th>\n",
       "    </tr>\n",
       "    <tr>\n",
       "      <th>fraudulent</th>\n",
       "      <th>paymentMethods.paymentMethodIssuer</th>\n",
       "      <th></th>\n",
       "    </tr>\n",
       "  </thead>\n",
       "  <tbody>\n",
       "    <tr>\n",
       "      <th rowspan=\"20\" valign=\"top\">True</th>\n",
       "      <th></th>\n",
       "      <td>2</td>\n",
       "    </tr>\n",
       "    <tr>\n",
       "      <th>B</th>\n",
       "      <td>7</td>\n",
       "    </tr>\n",
       "    <tr>\n",
       "      <th>Bastion Banks</th>\n",
       "      <td>17</td>\n",
       "    </tr>\n",
       "    <tr>\n",
       "      <th>Bulwark Trust Corp.</th>\n",
       "      <td>15</td>\n",
       "    </tr>\n",
       "    <tr>\n",
       "      <th>Citizens First Banks</th>\n",
       "      <td>14</td>\n",
       "    </tr>\n",
       "    <tr>\n",
       "      <th>Fountain Financial Inc.</th>\n",
       "      <td>21</td>\n",
       "    </tr>\n",
       "    <tr>\n",
       "      <th>Grand Credit Corporation</th>\n",
       "      <td>10</td>\n",
       "    </tr>\n",
       "    <tr>\n",
       "      <th>Her Majesty Trust</th>\n",
       "      <td>19</td>\n",
       "    </tr>\n",
       "    <tr>\n",
       "      <th>His Majesty Bank Corp.</th>\n",
       "      <td>17</td>\n",
       "    </tr>\n",
       "    <tr>\n",
       "      <th>Rose Bancshares</th>\n",
       "      <td>12</td>\n",
       "    </tr>\n",
       "    <tr>\n",
       "      <th>Solace Banks</th>\n",
       "      <td>12</td>\n",
       "    </tr>\n",
       "    <tr>\n",
       "      <th>Vertex Bancorp</th>\n",
       "      <td>19</td>\n",
       "    </tr>\n",
       "    <tr>\n",
       "      <th>a</th>\n",
       "      <td>1</td>\n",
       "    </tr>\n",
       "    <tr>\n",
       "      <th>c</th>\n",
       "      <td>4</td>\n",
       "    </tr>\n",
       "    <tr>\n",
       "      <th>e</th>\n",
       "      <td>5</td>\n",
       "    </tr>\n",
       "    <tr>\n",
       "      <th>n</th>\n",
       "      <td>2</td>\n",
       "    </tr>\n",
       "    <tr>\n",
       "      <th>o</th>\n",
       "      <td>2</td>\n",
       "    </tr>\n",
       "    <tr>\n",
       "      <th>p</th>\n",
       "      <td>1</td>\n",
       "    </tr>\n",
       "    <tr>\n",
       "      <th>r</th>\n",
       "      <td>3</td>\n",
       "    </tr>\n",
       "    <tr>\n",
       "      <th>x</th>\n",
       "      <td>2</td>\n",
       "    </tr>\n",
       "  </tbody>\n",
       "</table>\n",
       "</div>"
      ],
      "text/plain": [
       "                                               paymentMethods.paymentMethodId\n",
       "fraudulent paymentMethods.paymentMethodIssuer                                \n",
       "True                                                                        2\n",
       "           B                                                                7\n",
       "           Bastion Banks                                                   17\n",
       "           Bulwark Trust Corp.                                             15\n",
       "           Citizens First Banks                                            14\n",
       "           Fountain Financial Inc.                                         21\n",
       "           Grand Credit Corporation                                        10\n",
       "           Her Majesty Trust                                               19\n",
       "           His Majesty Bank Corp.                                          17\n",
       "           Rose Bancshares                                                 12\n",
       "           Solace Banks                                                    12\n",
       "           Vertex Bancorp                                                  19\n",
       "           a                                                                1\n",
       "           c                                                                4\n",
       "           e                                                                5\n",
       "           n                                                                2\n",
       "           o                                                                2\n",
       "           p                                                                1\n",
       "           r                                                                3\n",
       "           x                                                                2"
      ]
     },
     "execution_count": 20,
     "metadata": {},
     "output_type": "execute_result"
    }
   ],
   "source": [
    "payment_fraud.groupby(['fraudulent','paymentMethods.paymentMethodIssuer'])\\\n",
    ".agg({'paymentMethods.paymentMethodId':'count'})"
   ]
  },
  {
   "cell_type": "markdown",
   "metadata": {},
   "source": [
    "- Payment Methods offers little in predicting Fraud however, it does appear that when paymentMethodIssuer isn't populated with a legitimate Issuer then the payment is likely to be fraudulent.\n",
    "- We should create a flag to highlight where a customer has payments with incorrect issuer details"
   ]
  },
  {
   "cell_type": "code",
   "execution_count": 21,
   "metadata": {
    "ExecuteTime": {
     "end_time": "2020-09-07T10:18:46.996480Z",
     "start_time": "2020-09-07T10:18:46.957894Z"
    }
   },
   "outputs": [
    {
     "data": {
      "text/html": [
       "<div>\n",
       "<style scoped>\n",
       "    .dataframe tbody tr th:only-of-type {\n",
       "        vertical-align: middle;\n",
       "    }\n",
       "\n",
       "    .dataframe tbody tr th {\n",
       "        vertical-align: top;\n",
       "    }\n",
       "\n",
       "    .dataframe thead th {\n",
       "        text-align: right;\n",
       "    }\n",
       "</style>\n",
       "<table border=\"1\" class=\"dataframe\">\n",
       "  <thead>\n",
       "    <tr style=\"text-align: right;\">\n",
       "      <th></th>\n",
       "      <th>num_invalidIssuer</th>\n",
       "    </tr>\n",
       "    <tr>\n",
       "      <th>customerId</th>\n",
       "      <th></th>\n",
       "    </tr>\n",
       "  </thead>\n",
       "  <tbody>\n",
       "    <tr>\n",
       "      <th>5</th>\n",
       "      <td>2</td>\n",
       "    </tr>\n",
       "    <tr>\n",
       "      <th>6</th>\n",
       "      <td>2</td>\n",
       "    </tr>\n",
       "    <tr>\n",
       "      <th>10</th>\n",
       "      <td>1</td>\n",
       "    </tr>\n",
       "    <tr>\n",
       "      <th>15</th>\n",
       "      <td>1</td>\n",
       "    </tr>\n",
       "    <tr>\n",
       "      <th>23</th>\n",
       "      <td>1</td>\n",
       "    </tr>\n",
       "  </tbody>\n",
       "</table>\n",
       "</div>"
      ],
      "text/plain": [
       "            num_invalidIssuer\n",
       "customerId                   \n",
       "5                           2\n",
       "6                           2\n",
       "10                          1\n",
       "15                          1\n",
       "23                          1"
      ]
     },
     "execution_count": 21,
     "metadata": {},
     "output_type": "execute_result"
    }
   ],
   "source": [
    "issuer_list = payment_genuine['paymentMethods.paymentMethodIssuer'].dropna().unique()\n",
    "payment['validIssuer'] = payment['paymentMethods.paymentMethodIssuer'].isin(issuer_list)\n",
    "valid_payment = payment[payment['validIssuer']==False].groupby('customerId').agg({'paymentMethods.paymentMethodId':'count'})\n",
    "valid_payment.rename(columns={'paymentMethods.paymentMethodId':'num_invalidIssuer'}, inplace=True)\n",
    "valid_payment.head()"
   ]
  },
  {
   "cell_type": "code",
   "execution_count": 22,
   "metadata": {
    "ExecuteTime": {
     "end_time": "2020-09-07T10:18:47.575591Z",
     "start_time": "2020-09-07T10:18:47.001728Z"
    }
   },
   "outputs": [
    {
     "data": {
      "image/png": "[encoded data removed]",
      "text/plain": [
       "<Figure size 1008x288 with 2 Axes>"
      ]
     },
     "metadata": {
      "needs_background": "light"
     },
     "output_type": "display_data"
    }
   ],
   "source": [
    "fig, ax = plt.subplots(1,2, figsize=(14,4))\n",
    "payment_genuine.groupby('customerId').agg({'paymentMethods.paymentMethodId':pd.Series.nunique}).hist(ax=ax[0])\n",
    "payment_fraud.groupby('customerId').agg({'paymentMethods.paymentMethodId':pd.Series.nunique}).hist(ax=ax[1])\n",
    "ax[0].set_title('Non-Fraudulent Orders')\n",
    "ax[0].set_xlabel('No. Payment Methods')\n",
    "ax[1].set_title('Fraudulent Orders')\n",
    "ax[1].set_xlabel('No. Payment Methods');"
   ]
  },
  {
   "cell_type": "markdown",
   "metadata": {},
   "source": [
    "- Some relationship appears to exist between Fraudulence, and a higher number of payment methods per customer. A field will be added to indicate number of unique payment methods for each customer."
   ]
  },
  {
   "cell_type": "code",
   "execution_count": 23,
   "metadata": {
    "ExecuteTime": {
     "end_time": "2020-09-07T10:18:47.636062Z",
     "start_time": "2020-09-07T10:18:47.580340Z"
    }
   },
   "outputs": [],
   "source": [
    "payment_methods = payment.groupby('customerId').agg({'paymentMethods.paymentMethodId':pd.Series.nunique})\n",
    "payment_methods.rename({'paymentMethods.paymentMethodId':'num_paymentmethods'}, inplace=True)"
   ]
  },
  {
   "cell_type": "markdown",
   "metadata": {},
   "source": [
    "### Transactions"
   ]
  },
  {
   "cell_type": "code",
   "execution_count": 24,
   "metadata": {
    "ExecuteTime": {
     "end_time": "2020-09-07T10:18:47.781780Z",
     "start_time": "2020-09-07T10:18:47.644021Z"
    }
   },
   "outputs": [
    {
     "data": {
      "text/html": [
       "<div>\n",
       "<style scoped>\n",
       "    .dataframe tbody tr th:only-of-type {\n",
       "        vertical-align: middle;\n",
       "    }\n",
       "\n",
       "    .dataframe tbody tr th {\n",
       "        vertical-align: top;\n",
       "    }\n",
       "\n",
       "    .dataframe thead th {\n",
       "        text-align: right;\n",
       "    }\n",
       "</style>\n",
       "<table border=\"1\" class=\"dataframe\">\n",
       "  <thead>\n",
       "    <tr style=\"text-align: right;\">\n",
       "      <th></th>\n",
       "      <th>customerId</th>\n",
       "      <th>fraudulent</th>\n",
       "      <th>customer.customerEmail</th>\n",
       "      <th>customer.customerPhone</th>\n",
       "      <th>customer.customerDevice</th>\n",
       "      <th>customer.customerIPAddress</th>\n",
       "      <th>customer.customerBillingAddress</th>\n",
       "      <th>transactions.transactionId</th>\n",
       "      <th>transactions.orderId</th>\n",
       "      <th>transactions.paymentMethodId</th>\n",
       "      <th>transactions.transactionAmount</th>\n",
       "      <th>transactions.transactionFailed</th>\n",
       "    </tr>\n",
       "  </thead>\n",
       "  <tbody>\n",
       "    <tr>\n",
       "      <th>0</th>\n",
       "      <td>0</td>\n",
       "      <td>False</td>\n",
       "      <td>josephhoward@yahoo.com</td>\n",
       "      <td>400-108-5415</td>\n",
       "      <td>yyeiaxpltf82440jnb3v</td>\n",
       "      <td>8.129.104.40</td>\n",
       "      <td>5493 Jones Islands\\nBrownside, CA 51896</td>\n",
       "      <td>a9lcj51r</td>\n",
       "      <td>vjbdvd</td>\n",
       "      <td>wt07xm68b</td>\n",
       "      <td>18.0</td>\n",
       "      <td>False</td>\n",
       "    </tr>\n",
       "    <tr>\n",
       "      <th>1</th>\n",
       "      <td>0</td>\n",
       "      <td>False</td>\n",
       "      <td>josephhoward@yahoo.com</td>\n",
       "      <td>400-108-5415</td>\n",
       "      <td>yyeiaxpltf82440jnb3v</td>\n",
       "      <td>8.129.104.40</td>\n",
       "      <td>5493 Jones Islands\\nBrownside, CA 51896</td>\n",
       "      <td>y4wcv03i</td>\n",
       "      <td>yp6x27</td>\n",
       "      <td>wt07xm68b</td>\n",
       "      <td>26.0</td>\n",
       "      <td>False</td>\n",
       "    </tr>\n",
       "    <tr>\n",
       "      <th>2</th>\n",
       "      <td>1</td>\n",
       "      <td>True</td>\n",
       "      <td>evansjeffery@yahoo.com</td>\n",
       "      <td>1-788-091-7546</td>\n",
       "      <td>r0jpm7xaeqqa3kr6mzum</td>\n",
       "      <td>219.173.211.202</td>\n",
       "      <td>356 Elizabeth Inlet Suite 120\\nPort Joshuabury...</td>\n",
       "      <td>5mi94sfw</td>\n",
       "      <td>nlghpa</td>\n",
       "      <td>41ug157xz</td>\n",
       "      <td>45.0</td>\n",
       "      <td>False</td>\n",
       "    </tr>\n",
       "    <tr>\n",
       "      <th>3</th>\n",
       "      <td>1</td>\n",
       "      <td>True</td>\n",
       "      <td>evansjeffery@yahoo.com</td>\n",
       "      <td>1-788-091-7546</td>\n",
       "      <td>r0jpm7xaeqqa3kr6mzum</td>\n",
       "      <td>219.173.211.202</td>\n",
       "      <td>356 Elizabeth Inlet Suite 120\\nPort Joshuabury...</td>\n",
       "      <td>br8ba1nu</td>\n",
       "      <td>uw0eeb</td>\n",
       "      <td>41ug157xz</td>\n",
       "      <td>23.0</td>\n",
       "      <td>False</td>\n",
       "    </tr>\n",
       "    <tr>\n",
       "      <th>4</th>\n",
       "      <td>1</td>\n",
       "      <td>True</td>\n",
       "      <td>evansjeffery@yahoo.com</td>\n",
       "      <td>1-788-091-7546</td>\n",
       "      <td>r0jpm7xaeqqa3kr6mzum</td>\n",
       "      <td>219.173.211.202</td>\n",
       "      <td>356 Elizabeth Inlet Suite 120\\nPort Joshuabury...</td>\n",
       "      <td>a33145ss</td>\n",
       "      <td>bn44oh</td>\n",
       "      <td>y3xp697jx</td>\n",
       "      <td>43.0</td>\n",
       "      <td>True</td>\n",
       "    </tr>\n",
       "  </tbody>\n",
       "</table>\n",
       "</div>"
      ],
      "text/plain": [
       "   customerId  fraudulent  customer.customerEmail customer.customerPhone  \\\n",
       "0           0       False  josephhoward@yahoo.com           400-108-5415   \n",
       "1           0       False  josephhoward@yahoo.com           400-108-5415   \n",
       "2           1        True  evansjeffery@yahoo.com         1-788-091-7546   \n",
       "3           1        True  evansjeffery@yahoo.com         1-788-091-7546   \n",
       "4           1        True  evansjeffery@yahoo.com         1-788-091-7546   \n",
       "\n",
       "  customer.customerDevice customer.customerIPAddress  \\\n",
       "0    yyeiaxpltf82440jnb3v               8.129.104.40   \n",
       "1    yyeiaxpltf82440jnb3v               8.129.104.40   \n",
       "2    r0jpm7xaeqqa3kr6mzum            219.173.211.202   \n",
       "3    r0jpm7xaeqqa3kr6mzum            219.173.211.202   \n",
       "4    r0jpm7xaeqqa3kr6mzum            219.173.211.202   \n",
       "\n",
       "                     customer.customerBillingAddress  \\\n",
       "0            5493 Jones Islands\\nBrownside, CA 51896   \n",
       "1            5493 Jones Islands\\nBrownside, CA 51896   \n",
       "2  356 Elizabeth Inlet Suite 120\\nPort Joshuabury...   \n",
       "3  356 Elizabeth Inlet Suite 120\\nPort Joshuabury...   \n",
       "4  356 Elizabeth Inlet Suite 120\\nPort Joshuabury...   \n",
       "\n",
       "  transactions.transactionId transactions.orderId  \\\n",
       "0                   a9lcj51r               vjbdvd   \n",
       "1                   y4wcv03i               yp6x27   \n",
       "2                   5mi94sfw               nlghpa   \n",
       "3                   br8ba1nu               uw0eeb   \n",
       "4                   a33145ss               bn44oh   \n",
       "\n",
       "  transactions.paymentMethodId  transactions.transactionAmount  \\\n",
       "0                    wt07xm68b                            18.0   \n",
       "1                    wt07xm68b                            26.0   \n",
       "2                    41ug157xz                            45.0   \n",
       "3                    41ug157xz                            23.0   \n",
       "4                    y3xp697jx                            43.0   \n",
       "\n",
       "  transactions.transactionFailed  \n",
       "0                          False  \n",
       "1                          False  \n",
       "2                          False  \n",
       "3                          False  \n",
       "4                           True  "
      ]
     },
     "execution_count": 24,
     "metadata": {},
     "output_type": "execute_result"
    }
   ],
   "source": [
    "transactions = df[['fraudulent','customer','transactions']]\n",
    "transactions = transactions.explode('transactions').reset_index().rename(columns={'index':'customerId'})\n",
    "transactions = pd.json_normalize(json.loads(transactions.to_json(orient='records'))).drop(columns=['transactions'])\n",
    "\n",
    "transactions.head()"
   ]
  },
  {
   "cell_type": "code",
   "execution_count": 25,
   "metadata": {
    "ExecuteTime": {
     "end_time": "2020-09-07T10:18:47.815537Z",
     "start_time": "2020-09-07T10:18:47.787381Z"
    }
   },
   "outputs": [
    {
     "data": {
      "text/html": [
       "<div>\n",
       "<style scoped>\n",
       "    .dataframe tbody tr th:only-of-type {\n",
       "        vertical-align: middle;\n",
       "    }\n",
       "\n",
       "    .dataframe tbody tr th {\n",
       "        vertical-align: top;\n",
       "    }\n",
       "\n",
       "    .dataframe thead th {\n",
       "        text-align: right;\n",
       "    }\n",
       "</style>\n",
       "<table border=\"1\" class=\"dataframe\">\n",
       "  <thead>\n",
       "    <tr style=\"text-align: right;\">\n",
       "      <th></th>\n",
       "      <th></th>\n",
       "      <th>transactions.transactionId</th>\n",
       "      <th>transactions.transactionAmount</th>\n",
       "    </tr>\n",
       "    <tr>\n",
       "      <th>transactions.transactionFailed</th>\n",
       "      <th>fraudulent</th>\n",
       "      <th></th>\n",
       "      <th></th>\n",
       "    </tr>\n",
       "  </thead>\n",
       "  <tbody>\n",
       "    <tr>\n",
       "      <th rowspan=\"2\" valign=\"top\">False</th>\n",
       "      <th>False</th>\n",
       "      <td>258</td>\n",
       "      <td>7560.0</td>\n",
       "    </tr>\n",
       "    <tr>\n",
       "      <th>True</th>\n",
       "      <td>197</td>\n",
       "      <td>8169.0</td>\n",
       "    </tr>\n",
       "    <tr>\n",
       "      <th rowspan=\"2\" valign=\"top\">True</th>\n",
       "      <th>False</th>\n",
       "      <td>108</td>\n",
       "      <td>3072.0</td>\n",
       "    </tr>\n",
       "    <tr>\n",
       "      <th>True</th>\n",
       "      <td>60</td>\n",
       "      <td>2754.0</td>\n",
       "    </tr>\n",
       "  </tbody>\n",
       "</table>\n",
       "</div>"
      ],
      "text/plain": [
       "                                           transactions.transactionId  \\\n",
       "transactions.transactionFailed fraudulent                               \n",
       "False                          False                              258   \n",
       "                               True                               197   \n",
       "True                           False                              108   \n",
       "                               True                                60   \n",
       "\n",
       "                                           transactions.transactionAmount  \n",
       "transactions.transactionFailed fraudulent                                  \n",
       "False                          False                               7560.0  \n",
       "                               True                                8169.0  \n",
       "True                           False                               3072.0  \n",
       "                               True                                2754.0  "
      ]
     },
     "execution_count": 25,
     "metadata": {},
     "output_type": "execute_result"
    }
   ],
   "source": [
    "transactions.groupby(['transactions.transactionFailed','fraudulent'])\\\n",
    ".agg({'transactions.transactionId':'count', 'transactions.transactionAmount':'sum'})"
   ]
  },
  {
   "cell_type": "markdown",
   "metadata": {},
   "source": [
    "- Whether or not a transaction failed seems to be a some indication of that customer being fraudulent, it's a weak indicator but for transactions that failed most of them were fraudulent."
   ]
  },
  {
   "cell_type": "code",
   "execution_count": 26,
   "metadata": {
    "ExecuteTime": {
     "end_time": "2020-09-07T10:18:47.850314Z",
     "start_time": "2020-09-07T10:18:47.821043Z"
    }
   },
   "outputs": [
    {
     "data": {
      "text/html": [
       "<div>\n",
       "<style scoped>\n",
       "    .dataframe tbody tr th:only-of-type {\n",
       "        vertical-align: middle;\n",
       "    }\n",
       "\n",
       "    .dataframe tbody tr th {\n",
       "        vertical-align: top;\n",
       "    }\n",
       "\n",
       "    .dataframe thead th {\n",
       "        text-align: right;\n",
       "    }\n",
       "</style>\n",
       "<table border=\"1\" class=\"dataframe\">\n",
       "  <thead>\n",
       "    <tr style=\"text-align: right;\">\n",
       "      <th></th>\n",
       "      <th>customerId</th>\n",
       "      <th>fraudulent</th>\n",
       "      <th>customer.customerEmail</th>\n",
       "      <th>customer.customerPhone</th>\n",
       "      <th>customer.customerDevice</th>\n",
       "      <th>customer.customerIPAddress</th>\n",
       "      <th>customer.customerBillingAddress</th>\n",
       "      <th>transactions.transactionId</th>\n",
       "      <th>transactions.orderId</th>\n",
       "      <th>transactions.paymentMethodId</th>\n",
       "      <th>transactions.transactionAmount</th>\n",
       "      <th>transactions.transactionFailed</th>\n",
       "    </tr>\n",
       "  </thead>\n",
       "  <tbody>\n",
       "    <tr>\n",
       "      <th>0</th>\n",
       "      <td>0</td>\n",
       "      <td>False</td>\n",
       "      <td>josephhoward@yahoo.com</td>\n",
       "      <td>400-108-5415</td>\n",
       "      <td>yyeiaxpltf82440jnb3v</td>\n",
       "      <td>8.129.104.40</td>\n",
       "      <td>5493 Jones Islands\\nBrownside, CA 51896</td>\n",
       "      <td>a9lcj51r</td>\n",
       "      <td>vjbdvd</td>\n",
       "      <td>wt07xm68b</td>\n",
       "      <td>18.0</td>\n",
       "      <td>False</td>\n",
       "    </tr>\n",
       "    <tr>\n",
       "      <th>1</th>\n",
       "      <td>0</td>\n",
       "      <td>False</td>\n",
       "      <td>josephhoward@yahoo.com</td>\n",
       "      <td>400-108-5415</td>\n",
       "      <td>yyeiaxpltf82440jnb3v</td>\n",
       "      <td>8.129.104.40</td>\n",
       "      <td>5493 Jones Islands\\nBrownside, CA 51896</td>\n",
       "      <td>y4wcv03i</td>\n",
       "      <td>yp6x27</td>\n",
       "      <td>wt07xm68b</td>\n",
       "      <td>26.0</td>\n",
       "      <td>False</td>\n",
       "    </tr>\n",
       "    <tr>\n",
       "      <th>2</th>\n",
       "      <td>1</td>\n",
       "      <td>True</td>\n",
       "      <td>evansjeffery@yahoo.com</td>\n",
       "      <td>1-788-091-7546</td>\n",
       "      <td>r0jpm7xaeqqa3kr6mzum</td>\n",
       "      <td>219.173.211.202</td>\n",
       "      <td>356 Elizabeth Inlet Suite 120\\nPort Joshuabury...</td>\n",
       "      <td>5mi94sfw</td>\n",
       "      <td>nlghpa</td>\n",
       "      <td>41ug157xz</td>\n",
       "      <td>45.0</td>\n",
       "      <td>False</td>\n",
       "    </tr>\n",
       "    <tr>\n",
       "      <th>3</th>\n",
       "      <td>1</td>\n",
       "      <td>True</td>\n",
       "      <td>evansjeffery@yahoo.com</td>\n",
       "      <td>1-788-091-7546</td>\n",
       "      <td>r0jpm7xaeqqa3kr6mzum</td>\n",
       "      <td>219.173.211.202</td>\n",
       "      <td>356 Elizabeth Inlet Suite 120\\nPort Joshuabury...</td>\n",
       "      <td>br8ba1nu</td>\n",
       "      <td>uw0eeb</td>\n",
       "      <td>41ug157xz</td>\n",
       "      <td>23.0</td>\n",
       "      <td>False</td>\n",
       "    </tr>\n",
       "    <tr>\n",
       "      <th>4</th>\n",
       "      <td>1</td>\n",
       "      <td>True</td>\n",
       "      <td>evansjeffery@yahoo.com</td>\n",
       "      <td>1-788-091-7546</td>\n",
       "      <td>r0jpm7xaeqqa3kr6mzum</td>\n",
       "      <td>219.173.211.202</td>\n",
       "      <td>356 Elizabeth Inlet Suite 120\\nPort Joshuabury...</td>\n",
       "      <td>a33145ss</td>\n",
       "      <td>bn44oh</td>\n",
       "      <td>y3xp697jx</td>\n",
       "      <td>43.0</td>\n",
       "      <td>True</td>\n",
       "    </tr>\n",
       "  </tbody>\n",
       "</table>\n",
       "</div>"
      ],
      "text/plain": [
       "   customerId  fraudulent  customer.customerEmail customer.customerPhone  \\\n",
       "0           0       False  josephhoward@yahoo.com           400-108-5415   \n",
       "1           0       False  josephhoward@yahoo.com           400-108-5415   \n",
       "2           1        True  evansjeffery@yahoo.com         1-788-091-7546   \n",
       "3           1        True  evansjeffery@yahoo.com         1-788-091-7546   \n",
       "4           1        True  evansjeffery@yahoo.com         1-788-091-7546   \n",
       "\n",
       "  customer.customerDevice customer.customerIPAddress  \\\n",
       "0    yyeiaxpltf82440jnb3v               8.129.104.40   \n",
       "1    yyeiaxpltf82440jnb3v               8.129.104.40   \n",
       "2    r0jpm7xaeqqa3kr6mzum            219.173.211.202   \n",
       "3    r0jpm7xaeqqa3kr6mzum            219.173.211.202   \n",
       "4    r0jpm7xaeqqa3kr6mzum            219.173.211.202   \n",
       "\n",
       "                     customer.customerBillingAddress  \\\n",
       "0            5493 Jones Islands\\nBrownside, CA 51896   \n",
       "1            5493 Jones Islands\\nBrownside, CA 51896   \n",
       "2  356 Elizabeth Inlet Suite 120\\nPort Joshuabury...   \n",
       "3  356 Elizabeth Inlet Suite 120\\nPort Joshuabury...   \n",
       "4  356 Elizabeth Inlet Suite 120\\nPort Joshuabury...   \n",
       "\n",
       "  transactions.transactionId transactions.orderId  \\\n",
       "0                   a9lcj51r               vjbdvd   \n",
       "1                   y4wcv03i               yp6x27   \n",
       "2                   5mi94sfw               nlghpa   \n",
       "3                   br8ba1nu               uw0eeb   \n",
       "4                   a33145ss               bn44oh   \n",
       "\n",
       "  transactions.paymentMethodId  transactions.transactionAmount  \\\n",
       "0                    wt07xm68b                            18.0   \n",
       "1                    wt07xm68b                            26.0   \n",
       "2                    41ug157xz                            45.0   \n",
       "3                    41ug157xz                            23.0   \n",
       "4                    y3xp697jx                            43.0   \n",
       "\n",
       "  transactions.transactionFailed  \n",
       "0                          False  \n",
       "1                          False  \n",
       "2                          False  \n",
       "3                          False  \n",
       "4                           True  "
      ]
     },
     "execution_count": 26,
     "metadata": {},
     "output_type": "execute_result"
    }
   ],
   "source": [
    "transactions.head()"
   ]
  },
  {
   "cell_type": "code",
   "execution_count": 27,
   "metadata": {
    "ExecuteTime": {
     "end_time": "2020-09-07T10:18:47.912668Z",
     "start_time": "2020-09-07T10:18:47.874512Z"
    }
   },
   "outputs": [
    {
     "data": {
      "text/html": [
       "<div>\n",
       "<style scoped>\n",
       "    .dataframe tbody tr th:only-of-type {\n",
       "        vertical-align: middle;\n",
       "    }\n",
       "\n",
       "    .dataframe tbody tr th {\n",
       "        vertical-align: top;\n",
       "    }\n",
       "\n",
       "    .dataframe thead th {\n",
       "        text-align: right;\n",
       "    }\n",
       "</style>\n",
       "<table border=\"1\" class=\"dataframe\">\n",
       "  <thead>\n",
       "    <tr style=\"text-align: right;\">\n",
       "      <th></th>\n",
       "      <th>num_failedtransaction</th>\n",
       "    </tr>\n",
       "    <tr>\n",
       "      <th>customerId</th>\n",
       "      <th></th>\n",
       "    </tr>\n",
       "  </thead>\n",
       "  <tbody>\n",
       "    <tr>\n",
       "      <th>1</th>\n",
       "      <td>1</td>\n",
       "    </tr>\n",
       "    <tr>\n",
       "      <th>2</th>\n",
       "      <td>2</td>\n",
       "    </tr>\n",
       "    <tr>\n",
       "      <th>4</th>\n",
       "      <td>2</td>\n",
       "    </tr>\n",
       "    <tr>\n",
       "      <th>6</th>\n",
       "      <td>1</td>\n",
       "    </tr>\n",
       "    <tr>\n",
       "      <th>7</th>\n",
       "      <td>2</td>\n",
       "    </tr>\n",
       "  </tbody>\n",
       "</table>\n",
       "</div>"
      ],
      "text/plain": [
       "            num_failedtransaction\n",
       "customerId                       \n",
       "1                               1\n",
       "2                               2\n",
       "4                               2\n",
       "6                               1\n",
       "7                               2"
      ]
     },
     "execution_count": 27,
     "metadata": {},
     "output_type": "execute_result"
    }
   ],
   "source": [
    "num_failed_transaction = transactions[transactions['transactions.transactionFailed']==True].groupby(['customerId']).agg({'transactions.transactionId':'count'})\n",
    "num_failed_transaction.rename(columns={'transactions.transactionId':'num_failedtransaction'}, inplace=True)\n",
    "num_failed_transaction.head()"
   ]
  },
  {
   "cell_type": "markdown",
   "metadata": {},
   "source": [
    "### Order volumes\n",
    "- How many orders did fraudulent customers make vs. genuine customers, e.g. were fraudulent customers likely to attempt more orders?"
   ]
  },
  {
   "cell_type": "code",
   "execution_count": 28,
   "metadata": {
    "ExecuteTime": {
     "end_time": "2020-09-07T10:18:47.936213Z",
     "start_time": "2020-09-07T10:18:47.916862Z"
    }
   },
   "outputs": [],
   "source": [
    "orders_genuine = orders[orders['fraudulent']==False].groupby('customerId').agg({'orders.orderId':'count'})\n",
    "orders_fraud = orders[orders['fraudulent']==True].groupby('customerId').agg({'orders.orderId':'count'})"
   ]
  },
  {
   "cell_type": "code",
   "execution_count": 30,
   "metadata": {
    "ExecuteTime": {
     "end_time": "2020-09-07T10:19:08.848960Z",
     "start_time": "2020-09-07T10:19:08.000566Z"
    }
   },
   "outputs": [
    {
     "data": {
      "image/png": "[encoded data removed]",
      "text/plain": [
       "<Figure size 1008x288 with 2 Axes>"
      ]
     },
     "metadata": {
      "needs_background": "light"
     },
     "output_type": "display_data"
    }
   ],
   "source": [
    "fig, ax = plt.subplots(1,2,figsize=(14,4))\n",
    "orders_genuine.hist(ax=ax[0])\n",
    "ax[0].set_title('Non-fraudulent customers')\n",
    "ax[0].set_xlabel('Transactions per Customer')\n",
    "orders_fraud.hist(ax=ax[1])\n",
    "ax[1].set_title('Fraudulent customers')\n",
    "ax[1].set_xlabel('Transactions per Customer');"
   ]
  },
  {
   "cell_type": "markdown",
   "metadata": {},
   "source": [
    "- There appears a slight bias towards a higher number of orders for fraudulent customers than for non-fraudulent customers. So we will add no.orders per customer as a feature."
   ]
  },
  {
   "cell_type": "code",
   "execution_count": 31,
   "metadata": {
    "ExecuteTime": {
     "end_time": "2020-09-07T10:19:08.891268Z",
     "start_time": "2020-09-07T10:19:08.867798Z"
    }
   },
   "outputs": [],
   "source": [
    "num_orders = orders.groupby('customerId').agg({'orders.orderId':'count'})"
   ]
  },
  {
   "cell_type": "markdown",
   "metadata": {},
   "source": [
    "### Transaction volumes\n",
    "- How many transactions did fraudulent customers make vs. genuine customers, e.g. were fraudulent customers likely to attempt more transactions?"
   ]
  },
  {
   "cell_type": "code",
   "execution_count": 32,
   "metadata": {
    "ExecuteTime": {
     "end_time": "2020-09-07T10:19:08.983373Z",
     "start_time": "2020-09-07T10:19:08.910283Z"
    }
   },
   "outputs": [],
   "source": [
    "transactions_genuine = transactions[transactions['fraudulent']==False].groupby('customerId').agg({'transactions.transactionId':'count'})\n",
    "transactions_fraud = transactions[transactions['fraudulent']==True].groupby('customerId').agg({'transactions.transactionId':'count'})"
   ]
  },
  {
   "cell_type": "code",
   "execution_count": 33,
   "metadata": {
    "ExecuteTime": {
     "end_time": "2020-09-07T10:19:10.151995Z",
     "start_time": "2020-09-07T10:19:09.003118Z"
    }
   },
   "outputs": [
    {
     "data": {
      "image/png": "[encoded data removed]",
      "text/plain": [
       "<Figure size 1008x288 with 2 Axes>"
      ]
     },
     "metadata": {
      "needs_background": "light"
     },
     "output_type": "display_data"
    }
   ],
   "source": [
    "fig, ax = plt.subplots(1,2,figsize=(14,4))\n",
    "transactions_genuine.hist(ax=ax[0])\n",
    "ax[0].set_title('Non-fraudulent customers')\n",
    "ax[0].set_xlabel('Transactions per Customer')\n",
    "transactions_fraud.hist(ax=ax[1])\n",
    "ax[1].set_title('Fraudulent customers')\n",
    "ax[1].set_xlabel('Transactions per Customer');"
   ]
  },
  {
   "cell_type": "markdown",
   "metadata": {},
   "source": [
    "- Similarly to order volumes, there appears a slight bias towards a higher number of transactions for fraudulent customers than for non-fraudulent customers. So we will add no.transactions per customer as a feature."
   ]
  },
  {
   "cell_type": "code",
   "execution_count": 34,
   "metadata": {
    "ExecuteTime": {
     "end_time": "2020-09-07T10:19:10.191890Z",
     "start_time": "2020-09-07T10:19:10.162310Z"
    }
   },
   "outputs": [],
   "source": [
    "num_transactions = transactions.groupby('customerId').agg({'transactions.transactionId':'count'})"
   ]
  },
  {
   "cell_type": "markdown",
   "metadata": {},
   "source": [
    "### EDA summary:\n",
    "- Replication of customer details across different accounts indicates fraud: a flag has been created.\n",
    "- Large Order Amounts seem to indicate fraud, particularly beyond a threshold: we have indicated the avg and max order amount per customer.\n",
    "- Where no valid Payment Method issuer was given this has been exclusively associated with fraudulent accounts: a flag will be created.\n",
    "- Failed transactions have been slightly skewed towards fraudulent accounts: this feature could help our model.\n",
    "- Fraudulent customers may have slightly higher no. orders and transactions than genuine customers: worth also adding two fields, one for each count"
   ]
  },
  {
   "cell_type": "markdown",
   "metadata": {},
   "source": [
    "## Feature Engineering\n",
    "- We now create the necessary features outlined above."
   ]
  },
  {
   "cell_type": "code",
   "execution_count": 35,
   "metadata": {
    "ExecuteTime": {
     "end_time": "2020-09-07T10:19:10.290594Z",
     "start_time": "2020-09-07T10:19:10.209312Z"
    }
   },
   "outputs": [
    {
     "data": {
      "text/html": [
       "<div>\n",
       "<style scoped>\n",
       "    .dataframe tbody tr th:only-of-type {\n",
       "        vertical-align: middle;\n",
       "    }\n",
       "\n",
       "    .dataframe tbody tr th {\n",
       "        vertical-align: top;\n",
       "    }\n",
       "\n",
       "    .dataframe thead th {\n",
       "        text-align: right;\n",
       "    }\n",
       "</style>\n",
       "<table border=\"1\" class=\"dataframe\">\n",
       "  <thead>\n",
       "    <tr style=\"text-align: right;\">\n",
       "      <th></th>\n",
       "      <th>fraudulent</th>\n",
       "      <th>customerId</th>\n",
       "      <th>customer_duped</th>\n",
       "    </tr>\n",
       "  </thead>\n",
       "  <tbody>\n",
       "    <tr>\n",
       "      <th>0</th>\n",
       "      <td>False</td>\n",
       "      <td>0</td>\n",
       "      <td>0</td>\n",
       "    </tr>\n",
       "    <tr>\n",
       "      <th>1</th>\n",
       "      <td>True</td>\n",
       "      <td>1</td>\n",
       "      <td>0</td>\n",
       "    </tr>\n",
       "    <tr>\n",
       "      <th>2</th>\n",
       "      <td>False</td>\n",
       "      <td>2</td>\n",
       "      <td>0</td>\n",
       "    </tr>\n",
       "    <tr>\n",
       "      <th>3</th>\n",
       "      <td>False</td>\n",
       "      <td>3</td>\n",
       "      <td>0</td>\n",
       "    </tr>\n",
       "    <tr>\n",
       "      <th>4</th>\n",
       "      <td>True</td>\n",
       "      <td>4</td>\n",
       "      <td>0</td>\n",
       "    </tr>\n",
       "  </tbody>\n",
       "</table>\n",
       "</div>"
      ],
      "text/plain": [
       "   fraudulent  customerId  customer_duped\n",
       "0       False           0               0\n",
       "1        True           1               0\n",
       "2       False           2               0\n",
       "3       False           3               0\n",
       "4        True           4               0"
      ]
     },
     "execution_count": 35,
     "metadata": {},
     "output_type": "execute_result"
    }
   ],
   "source": [
    "features = df_norm[['fraudulent','customerId','customer_duped']].drop_duplicates('customerId', ignore_index=True)\n",
    "features.head()"
   ]
  },
  {
   "cell_type": "markdown",
   "metadata": {},
   "source": [
    "Add order and transaction volumes per customer:"
   ]
  },
  {
   "cell_type": "code",
   "execution_count": 36,
   "metadata": {
    "ExecuteTime": {
     "end_time": "2020-09-07T10:19:10.356927Z",
     "start_time": "2020-09-07T10:19:10.297748Z"
    }
   },
   "outputs": [
    {
     "data": {
      "text/html": [
       "<div>\n",
       "<style scoped>\n",
       "    .dataframe tbody tr th:only-of-type {\n",
       "        vertical-align: middle;\n",
       "    }\n",
       "\n",
       "    .dataframe tbody tr th {\n",
       "        vertical-align: top;\n",
       "    }\n",
       "\n",
       "    .dataframe thead th {\n",
       "        text-align: right;\n",
       "    }\n",
       "</style>\n",
       "<table border=\"1\" class=\"dataframe\">\n",
       "  <thead>\n",
       "    <tr style=\"text-align: right;\">\n",
       "      <th></th>\n",
       "      <th>fraudulent</th>\n",
       "      <th>customerId</th>\n",
       "      <th>customer_duped</th>\n",
       "      <th>num_orders</th>\n",
       "      <th>num_transactions</th>\n",
       "    </tr>\n",
       "  </thead>\n",
       "  <tbody>\n",
       "    <tr>\n",
       "      <th>0</th>\n",
       "      <td>False</td>\n",
       "      <td>0</td>\n",
       "      <td>0</td>\n",
       "      <td>2</td>\n",
       "      <td>2</td>\n",
       "    </tr>\n",
       "    <tr>\n",
       "      <th>1</th>\n",
       "      <td>True</td>\n",
       "      <td>1</td>\n",
       "      <td>0</td>\n",
       "      <td>3</td>\n",
       "      <td>3</td>\n",
       "    </tr>\n",
       "    <tr>\n",
       "      <th>2</th>\n",
       "      <td>False</td>\n",
       "      <td>2</td>\n",
       "      <td>0</td>\n",
       "      <td>3</td>\n",
       "      <td>5</td>\n",
       "    </tr>\n",
       "    <tr>\n",
       "      <th>3</th>\n",
       "      <td>False</td>\n",
       "      <td>3</td>\n",
       "      <td>0</td>\n",
       "      <td>3</td>\n",
       "      <td>3</td>\n",
       "    </tr>\n",
       "    <tr>\n",
       "      <th>4</th>\n",
       "      <td>True</td>\n",
       "      <td>4</td>\n",
       "      <td>0</td>\n",
       "      <td>7</td>\n",
       "      <td>7</td>\n",
       "    </tr>\n",
       "  </tbody>\n",
       "</table>\n",
       "</div>"
      ],
      "text/plain": [
       "   fraudulent  customerId  customer_duped  num_orders  num_transactions\n",
       "0       False           0               0           2                 2\n",
       "1        True           1               0           3                 3\n",
       "2       False           2               0           3                 5\n",
       "3       False           3               0           3                 3\n",
       "4        True           4               0           7                 7"
      ]
     },
     "execution_count": 36,
     "metadata": {},
     "output_type": "execute_result"
    }
   ],
   "source": [
    "features = features.join(num_orders, on='customerId').join(num_transactions, on='customerId')\n",
    "features.rename(columns={'orders.orderId':'num_orders','transactions.transactionId':'num_transactions'}, inplace=True)\n",
    "features.head()"
   ]
  },
  {
   "cell_type": "markdown",
   "metadata": {},
   "source": [
    "Add average and max order amount per customer:"
   ]
  },
  {
   "cell_type": "code",
   "execution_count": 37,
   "metadata": {
    "ExecuteTime": {
     "end_time": "2020-09-07T10:19:10.427164Z",
     "start_time": "2020-09-07T10:19:10.373937Z"
    }
   },
   "outputs": [
    {
     "data": {
      "text/html": [
       "<div>\n",
       "<style scoped>\n",
       "    .dataframe tbody tr th:only-of-type {\n",
       "        vertical-align: middle;\n",
       "    }\n",
       "\n",
       "    .dataframe tbody tr th {\n",
       "        vertical-align: top;\n",
       "    }\n",
       "\n",
       "    .dataframe thead th {\n",
       "        text-align: right;\n",
       "    }\n",
       "</style>\n",
       "<table border=\"1\" class=\"dataframe\">\n",
       "  <thead>\n",
       "    <tr style=\"text-align: right;\">\n",
       "      <th></th>\n",
       "      <th>fraudulent</th>\n",
       "      <th>customerId</th>\n",
       "      <th>customer_duped</th>\n",
       "      <th>num_orders</th>\n",
       "      <th>num_transactions</th>\n",
       "      <th>orderamount_avg</th>\n",
       "      <th>orderamount_max</th>\n",
       "    </tr>\n",
       "  </thead>\n",
       "  <tbody>\n",
       "    <tr>\n",
       "      <th>0</th>\n",
       "      <td>False</td>\n",
       "      <td>0</td>\n",
       "      <td>0</td>\n",
       "      <td>2</td>\n",
       "      <td>2</td>\n",
       "      <td>22.000000</td>\n",
       "      <td>26.0</td>\n",
       "    </tr>\n",
       "    <tr>\n",
       "      <th>1</th>\n",
       "      <td>True</td>\n",
       "      <td>1</td>\n",
       "      <td>0</td>\n",
       "      <td>3</td>\n",
       "      <td>3</td>\n",
       "      <td>37.000000</td>\n",
       "      <td>45.0</td>\n",
       "    </tr>\n",
       "    <tr>\n",
       "      <th>2</th>\n",
       "      <td>False</td>\n",
       "      <td>2</td>\n",
       "      <td>0</td>\n",
       "      <td>3</td>\n",
       "      <td>5</td>\n",
       "      <td>27.333333</td>\n",
       "      <td>33.0</td>\n",
       "    </tr>\n",
       "    <tr>\n",
       "      <th>3</th>\n",
       "      <td>False</td>\n",
       "      <td>3</td>\n",
       "      <td>0</td>\n",
       "      <td>3</td>\n",
       "      <td>3</td>\n",
       "      <td>28.333333</td>\n",
       "      <td>34.0</td>\n",
       "    </tr>\n",
       "    <tr>\n",
       "      <th>4</th>\n",
       "      <td>True</td>\n",
       "      <td>4</td>\n",
       "      <td>0</td>\n",
       "      <td>7</td>\n",
       "      <td>7</td>\n",
       "      <td>58.714286</td>\n",
       "      <td>71.0</td>\n",
       "    </tr>\n",
       "  </tbody>\n",
       "</table>\n",
       "</div>"
      ],
      "text/plain": [
       "   fraudulent  customerId  customer_duped  num_orders  num_transactions  \\\n",
       "0       False           0               0           2                 2   \n",
       "1        True           1               0           3                 3   \n",
       "2       False           2               0           3                 5   \n",
       "3       False           3               0           3                 3   \n",
       "4        True           4               0           7                 7   \n",
       "\n",
       "   orderamount_avg  orderamount_max  \n",
       "0        22.000000             26.0  \n",
       "1        37.000000             45.0  \n",
       "2        27.333333             33.0  \n",
       "3        28.333333             34.0  \n",
       "4        58.714286             71.0  "
      ]
     },
     "execution_count": 37,
     "metadata": {},
     "output_type": "execute_result"
    }
   ],
   "source": [
    "features = features.join(order_amount, on='customerId')\n",
    "features[['orderamount_avg','orderamount_max']] = features[['orderamount_avg','orderamount_max']].fillna(0)\n",
    "features.head()"
   ]
  },
  {
   "cell_type": "markdown",
   "metadata": {},
   "source": [
    "Add flag for incomplete payment details:"
   ]
  },
  {
   "cell_type": "code",
   "execution_count": 38,
   "metadata": {
    "ExecuteTime": {
     "end_time": "2020-09-07T10:19:10.491229Z",
     "start_time": "2020-09-07T10:19:10.448608Z"
    }
   },
   "outputs": [
    {
     "data": {
      "text/html": [
       "<div>\n",
       "<style scoped>\n",
       "    .dataframe tbody tr th:only-of-type {\n",
       "        vertical-align: middle;\n",
       "    }\n",
       "\n",
       "    .dataframe tbody tr th {\n",
       "        vertical-align: top;\n",
       "    }\n",
       "\n",
       "    .dataframe thead th {\n",
       "        text-align: right;\n",
       "    }\n",
       "</style>\n",
       "<table border=\"1\" class=\"dataframe\">\n",
       "  <thead>\n",
       "    <tr style=\"text-align: right;\">\n",
       "      <th></th>\n",
       "      <th>fraudulent</th>\n",
       "      <th>customerId</th>\n",
       "      <th>customer_duped</th>\n",
       "      <th>num_orders</th>\n",
       "      <th>num_transactions</th>\n",
       "      <th>orderamount_avg</th>\n",
       "      <th>orderamount_max</th>\n",
       "      <th>num_invalidIssuer</th>\n",
       "    </tr>\n",
       "  </thead>\n",
       "  <tbody>\n",
       "    <tr>\n",
       "      <th>0</th>\n",
       "      <td>False</td>\n",
       "      <td>0</td>\n",
       "      <td>0</td>\n",
       "      <td>2</td>\n",
       "      <td>2</td>\n",
       "      <td>22.000000</td>\n",
       "      <td>26.0</td>\n",
       "      <td>0.0</td>\n",
       "    </tr>\n",
       "    <tr>\n",
       "      <th>1</th>\n",
       "      <td>True</td>\n",
       "      <td>1</td>\n",
       "      <td>0</td>\n",
       "      <td>3</td>\n",
       "      <td>3</td>\n",
       "      <td>37.000000</td>\n",
       "      <td>45.0</td>\n",
       "      <td>0.0</td>\n",
       "    </tr>\n",
       "    <tr>\n",
       "      <th>2</th>\n",
       "      <td>False</td>\n",
       "      <td>2</td>\n",
       "      <td>0</td>\n",
       "      <td>3</td>\n",
       "      <td>5</td>\n",
       "      <td>27.333333</td>\n",
       "      <td>33.0</td>\n",
       "      <td>0.0</td>\n",
       "    </tr>\n",
       "    <tr>\n",
       "      <th>3</th>\n",
       "      <td>False</td>\n",
       "      <td>3</td>\n",
       "      <td>0</td>\n",
       "      <td>3</td>\n",
       "      <td>3</td>\n",
       "      <td>28.333333</td>\n",
       "      <td>34.0</td>\n",
       "      <td>0.0</td>\n",
       "    </tr>\n",
       "    <tr>\n",
       "      <th>4</th>\n",
       "      <td>True</td>\n",
       "      <td>4</td>\n",
       "      <td>0</td>\n",
       "      <td>7</td>\n",
       "      <td>7</td>\n",
       "      <td>58.714286</td>\n",
       "      <td>71.0</td>\n",
       "      <td>0.0</td>\n",
       "    </tr>\n",
       "  </tbody>\n",
       "</table>\n",
       "</div>"
      ],
      "text/plain": [
       "   fraudulent  customerId  customer_duped  num_orders  num_transactions  \\\n",
       "0       False           0               0           2                 2   \n",
       "1        True           1               0           3                 3   \n",
       "2       False           2               0           3                 5   \n",
       "3       False           3               0           3                 3   \n",
       "4        True           4               0           7                 7   \n",
       "\n",
       "   orderamount_avg  orderamount_max  num_invalidIssuer  \n",
       "0        22.000000             26.0                0.0  \n",
       "1        37.000000             45.0                0.0  \n",
       "2        27.333333             33.0                0.0  \n",
       "3        28.333333             34.0                0.0  \n",
       "4        58.714286             71.0                0.0  "
      ]
     },
     "execution_count": 38,
     "metadata": {},
     "output_type": "execute_result"
    }
   ],
   "source": [
    "features = features.join(valid_payment, on='customerId')\n",
    "features.num_invalidIssuer = features.num_invalidIssuer.fillna(0)\n",
    "features.head()"
   ]
  },
  {
   "cell_type": "markdown",
   "metadata": {},
   "source": [
    "Add no. payment methods used per customer:"
   ]
  },
  {
   "cell_type": "code",
   "execution_count": 39,
   "metadata": {
    "ExecuteTime": {
     "end_time": "2020-09-07T10:19:10.554082Z",
     "start_time": "2020-09-07T10:19:10.500831Z"
    }
   },
   "outputs": [
    {
     "data": {
      "text/html": [
       "<div>\n",
       "<style scoped>\n",
       "    .dataframe tbody tr th:only-of-type {\n",
       "        vertical-align: middle;\n",
       "    }\n",
       "\n",
       "    .dataframe tbody tr th {\n",
       "        vertical-align: top;\n",
       "    }\n",
       "\n",
       "    .dataframe thead th {\n",
       "        text-align: right;\n",
       "    }\n",
       "</style>\n",
       "<table border=\"1\" class=\"dataframe\">\n",
       "  <thead>\n",
       "    <tr style=\"text-align: right;\">\n",
       "      <th></th>\n",
       "      <th>fraudulent</th>\n",
       "      <th>customerId</th>\n",
       "      <th>customer_duped</th>\n",
       "      <th>num_orders</th>\n",
       "      <th>num_transactions</th>\n",
       "      <th>orderamount_avg</th>\n",
       "      <th>orderamount_max</th>\n",
       "      <th>num_invalidIssuer</th>\n",
       "      <th>num_paymentmethods</th>\n",
       "    </tr>\n",
       "  </thead>\n",
       "  <tbody>\n",
       "    <tr>\n",
       "      <th>0</th>\n",
       "      <td>False</td>\n",
       "      <td>0</td>\n",
       "      <td>0</td>\n",
       "      <td>2</td>\n",
       "      <td>2</td>\n",
       "      <td>22.000000</td>\n",
       "      <td>26.0</td>\n",
       "      <td>0.0</td>\n",
       "      <td>1</td>\n",
       "    </tr>\n",
       "    <tr>\n",
       "      <th>1</th>\n",
       "      <td>True</td>\n",
       "      <td>1</td>\n",
       "      <td>0</td>\n",
       "      <td>3</td>\n",
       "      <td>3</td>\n",
       "      <td>37.000000</td>\n",
       "      <td>45.0</td>\n",
       "      <td>0.0</td>\n",
       "      <td>7</td>\n",
       "    </tr>\n",
       "    <tr>\n",
       "      <th>2</th>\n",
       "      <td>False</td>\n",
       "      <td>2</td>\n",
       "      <td>0</td>\n",
       "      <td>3</td>\n",
       "      <td>5</td>\n",
       "      <td>27.333333</td>\n",
       "      <td>33.0</td>\n",
       "      <td>0.0</td>\n",
       "      <td>2</td>\n",
       "    </tr>\n",
       "    <tr>\n",
       "      <th>3</th>\n",
       "      <td>False</td>\n",
       "      <td>3</td>\n",
       "      <td>0</td>\n",
       "      <td>3</td>\n",
       "      <td>3</td>\n",
       "      <td>28.333333</td>\n",
       "      <td>34.0</td>\n",
       "      <td>0.0</td>\n",
       "      <td>1</td>\n",
       "    </tr>\n",
       "    <tr>\n",
       "      <th>4</th>\n",
       "      <td>True</td>\n",
       "      <td>4</td>\n",
       "      <td>0</td>\n",
       "      <td>7</td>\n",
       "      <td>7</td>\n",
       "      <td>58.714286</td>\n",
       "      <td>71.0</td>\n",
       "      <td>0.0</td>\n",
       "      <td>6</td>\n",
       "    </tr>\n",
       "  </tbody>\n",
       "</table>\n",
       "</div>"
      ],
      "text/plain": [
       "   fraudulent  customerId  customer_duped  num_orders  num_transactions  \\\n",
       "0       False           0               0           2                 2   \n",
       "1        True           1               0           3                 3   \n",
       "2       False           2               0           3                 5   \n",
       "3       False           3               0           3                 3   \n",
       "4        True           4               0           7                 7   \n",
       "\n",
       "   orderamount_avg  orderamount_max  num_invalidIssuer  num_paymentmethods  \n",
       "0        22.000000             26.0                0.0                   1  \n",
       "1        37.000000             45.0                0.0                   7  \n",
       "2        27.333333             33.0                0.0                   2  \n",
       "3        28.333333             34.0                0.0                   1  \n",
       "4        58.714286             71.0                0.0                   6  "
      ]
     },
     "execution_count": 39,
     "metadata": {},
     "output_type": "execute_result"
    }
   ],
   "source": [
    "features = features.join(payment_methods, on='customerId').rename(columns={'paymentMethods.paymentMethodId':'num_paymentmethods'})\n",
    "features.head()"
   ]
  },
  {
   "cell_type": "markdown",
   "metadata": {},
   "source": [
    "Add no. failed transactions per customer:"
   ]
  },
  {
   "cell_type": "code",
   "execution_count": 40,
   "metadata": {
    "ExecuteTime": {
     "end_time": "2020-09-07T10:19:10.610577Z",
     "start_time": "2020-09-07T10:19:10.561101Z"
    }
   },
   "outputs": [
    {
     "data": {
      "text/html": [
       "<div>\n",
       "<style scoped>\n",
       "    .dataframe tbody tr th:only-of-type {\n",
       "        vertical-align: middle;\n",
       "    }\n",
       "\n",
       "    .dataframe tbody tr th {\n",
       "        vertical-align: top;\n",
       "    }\n",
       "\n",
       "    .dataframe thead th {\n",
       "        text-align: right;\n",
       "    }\n",
       "</style>\n",
       "<table border=\"1\" class=\"dataframe\">\n",
       "  <thead>\n",
       "    <tr style=\"text-align: right;\">\n",
       "      <th></th>\n",
       "      <th>fraudulent</th>\n",
       "      <th>customerId</th>\n",
       "      <th>customer_duped</th>\n",
       "      <th>num_orders</th>\n",
       "      <th>num_transactions</th>\n",
       "      <th>orderamount_avg</th>\n",
       "      <th>orderamount_max</th>\n",
       "      <th>num_invalidIssuer</th>\n",
       "      <th>num_paymentmethods</th>\n",
       "      <th>num_failedtransaction</th>\n",
       "    </tr>\n",
       "  </thead>\n",
       "  <tbody>\n",
       "    <tr>\n",
       "      <th>0</th>\n",
       "      <td>False</td>\n",
       "      <td>0</td>\n",
       "      <td>0</td>\n",
       "      <td>2</td>\n",
       "      <td>2</td>\n",
       "      <td>22.000000</td>\n",
       "      <td>26.0</td>\n",
       "      <td>0.0</td>\n",
       "      <td>1</td>\n",
       "      <td>0.0</td>\n",
       "    </tr>\n",
       "    <tr>\n",
       "      <th>1</th>\n",
       "      <td>True</td>\n",
       "      <td>1</td>\n",
       "      <td>0</td>\n",
       "      <td>3</td>\n",
       "      <td>3</td>\n",
       "      <td>37.000000</td>\n",
       "      <td>45.0</td>\n",
       "      <td>0.0</td>\n",
       "      <td>7</td>\n",
       "      <td>1.0</td>\n",
       "    </tr>\n",
       "    <tr>\n",
       "      <th>2</th>\n",
       "      <td>False</td>\n",
       "      <td>2</td>\n",
       "      <td>0</td>\n",
       "      <td>3</td>\n",
       "      <td>5</td>\n",
       "      <td>27.333333</td>\n",
       "      <td>33.0</td>\n",
       "      <td>0.0</td>\n",
       "      <td>2</td>\n",
       "      <td>2.0</td>\n",
       "    </tr>\n",
       "    <tr>\n",
       "      <th>3</th>\n",
       "      <td>False</td>\n",
       "      <td>3</td>\n",
       "      <td>0</td>\n",
       "      <td>3</td>\n",
       "      <td>3</td>\n",
       "      <td>28.333333</td>\n",
       "      <td>34.0</td>\n",
       "      <td>0.0</td>\n",
       "      <td>1</td>\n",
       "      <td>0.0</td>\n",
       "    </tr>\n",
       "    <tr>\n",
       "      <th>4</th>\n",
       "      <td>True</td>\n",
       "      <td>4</td>\n",
       "      <td>0</td>\n",
       "      <td>7</td>\n",
       "      <td>7</td>\n",
       "      <td>58.714286</td>\n",
       "      <td>71.0</td>\n",
       "      <td>0.0</td>\n",
       "      <td>6</td>\n",
       "      <td>2.0</td>\n",
       "    </tr>\n",
       "  </tbody>\n",
       "</table>\n",
       "</div>"
      ],
      "text/plain": [
       "   fraudulent  customerId  customer_duped  num_orders  num_transactions  \\\n",
       "0       False           0               0           2                 2   \n",
       "1        True           1               0           3                 3   \n",
       "2       False           2               0           3                 5   \n",
       "3       False           3               0           3                 3   \n",
       "4        True           4               0           7                 7   \n",
       "\n",
       "   orderamount_avg  orderamount_max  num_invalidIssuer  num_paymentmethods  \\\n",
       "0        22.000000             26.0                0.0                   1   \n",
       "1        37.000000             45.0                0.0                   7   \n",
       "2        27.333333             33.0                0.0                   2   \n",
       "3        28.333333             34.0                0.0                   1   \n",
       "4        58.714286             71.0                0.0                   6   \n",
       "\n",
       "   num_failedtransaction  \n",
       "0                    0.0  \n",
       "1                    1.0  \n",
       "2                    2.0  \n",
       "3                    0.0  \n",
       "4                    2.0  "
      ]
     },
     "execution_count": 40,
     "metadata": {},
     "output_type": "execute_result"
    }
   ],
   "source": [
    "features = features.join(num_failed_transaction, on='customerId')\n",
    "features.num_failedtransaction = features.num_failedtransaction.fillna(0)\n",
    "features.head()"
   ]
  },
  {
   "cell_type": "markdown",
   "metadata": {},
   "source": [
    "## Modelling"
   ]
  },
  {
   "cell_type": "code",
   "execution_count": 41,
   "metadata": {
    "ExecuteTime": {
     "end_time": "2020-09-07T10:19:10.632699Z",
     "start_time": "2020-09-07T10:19:10.621046Z"
    }
   },
   "outputs": [],
   "source": [
    "y, X = features.pop('fraudulent'), features.drop(columns='customerId')"
   ]
  },
  {
   "cell_type": "code",
   "execution_count": 42,
   "metadata": {
    "ExecuteTime": {
     "end_time": "2020-09-07T10:19:10.679106Z",
     "start_time": "2020-09-07T10:19:10.647818Z"
    }
   },
   "outputs": [],
   "source": [
    "from sklearn.preprocessing import LabelEncoder, StandardScaler\n",
    "from sklearn.model_selection import train_test_split, cross_val_score\n",
    "\n",
    "le = LabelEncoder()\n",
    "y = le.fit_transform(y)\n",
    "\n",
    "X_train, X_test, y_train, y_test = train_test_split(X, y, random_state=1)\n",
    "\n",
    "scaler = StandardScaler()\n",
    "X_train = scaler.fit_transform(X_train)\n",
    "X_test = scaler.transform(X_test)"
   ]
  },
  {
   "cell_type": "markdown",
   "metadata": {},
   "source": [
    "### Logistic Regression"
   ]
  },
  {
   "cell_type": "code",
   "execution_count": 74,
   "metadata": {
    "ExecuteTime": {
     "end_time": "2020-09-07T10:52:48.697720Z",
     "start_time": "2020-09-07T10:52:48.310409Z"
    }
   },
   "outputs": [
    {
     "name": "stdout",
     "output_type": "stream",
     "text": [
      "0.8809523809523809\n",
      "[0.35938137]\n"
     ]
    }
   ],
   "source": [
    "from sklearn.linear_model import LogisticRegressionCV\n",
    "\n",
    "lrcv = LogisticRegressionCV(max_iter=10000)\n",
    "lrcv.fit(X_train, y_train)\n",
    "print(lrcv.score(X_test, y_test))\n",
    "print(lrcv.C_)"
   ]
  },
  {
   "cell_type": "code",
   "execution_count": 44,
   "metadata": {
    "ExecuteTime": {
     "end_time": "2020-09-07T10:19:11.353377Z",
     "start_time": "2020-09-07T10:19:11.324318Z"
    }
   },
   "outputs": [
    {
     "data": {
      "text/html": [
       "<div>\n",
       "<style scoped>\n",
       "    .dataframe tbody tr th:only-of-type {\n",
       "        vertical-align: middle;\n",
       "    }\n",
       "\n",
       "    .dataframe tbody tr th {\n",
       "        vertical-align: top;\n",
       "    }\n",
       "\n",
       "    .dataframe thead th {\n",
       "        text-align: right;\n",
       "    }\n",
       "</style>\n",
       "<table border=\"1\" class=\"dataframe\">\n",
       "  <thead>\n",
       "    <tr style=\"text-align: right;\">\n",
       "      <th></th>\n",
       "      <th>coefficients</th>\n",
       "    </tr>\n",
       "  </thead>\n",
       "  <tbody>\n",
       "    <tr>\n",
       "      <th>num_invalidIssuer</th>\n",
       "      <td>1.392278</td>\n",
       "    </tr>\n",
       "    <tr>\n",
       "      <th>customer_duped</th>\n",
       "      <td>0.873673</td>\n",
       "    </tr>\n",
       "    <tr>\n",
       "      <th>num_paymentmethods</th>\n",
       "      <td>0.784489</td>\n",
       "    </tr>\n",
       "    <tr>\n",
       "      <th>orderamount_max</th>\n",
       "      <td>0.627456</td>\n",
       "    </tr>\n",
       "    <tr>\n",
       "      <th>orderamount_avg</th>\n",
       "      <td>0.622270</td>\n",
       "    </tr>\n",
       "    <tr>\n",
       "      <th>num_orders</th>\n",
       "      <td>0.206683</td>\n",
       "    </tr>\n",
       "    <tr>\n",
       "      <th>num_failedtransaction</th>\n",
       "      <td>0.018978</td>\n",
       "    </tr>\n",
       "    <tr>\n",
       "      <th>num_transactions</th>\n",
       "      <td>-0.243552</td>\n",
       "    </tr>\n",
       "  </tbody>\n",
       "</table>\n",
       "</div>"
      ],
      "text/plain": [
       "                       coefficients\n",
       "num_invalidIssuer          1.392278\n",
       "customer_duped             0.873673\n",
       "num_paymentmethods         0.784489\n",
       "orderamount_max            0.627456\n",
       "orderamount_avg            0.622270\n",
       "num_orders                 0.206683\n",
       "num_failedtransaction      0.018978\n",
       "num_transactions          -0.243552"
      ]
     },
     "execution_count": 44,
     "metadata": {},
     "output_type": "execute_result"
    }
   ],
   "source": [
    "lrcv_coefficients = pd.DataFrame(lrcv.coef_,\n",
    "                                 columns=X.columns,\n",
    "                                 index=['coefficients']).T.sort_values('coefficients',ascending=False)\n",
    "lrcv_coefficients"
   ]
  },
  {
   "cell_type": "markdown",
   "metadata": {},
   "source": [
    "The most important coefficients to deciding whether or not a custoer is fraudulent are:\n",
    "- the number of incomplete payment details a customer has provided,\n",
    "- whether or not accounts have customer details in common,\n",
    "- the number of payment methods provided by a customer,\n",
    "- the size of the order amounts"
   ]
  },
  {
   "cell_type": "code",
   "execution_count": 56,
   "metadata": {
    "ExecuteTime": {
     "end_time": "2020-09-07T10:27:30.084204Z",
     "start_time": "2020-09-07T10:27:28.837587Z"
    }
   },
   "outputs": [
    {
     "data": {
      "image/png": "[encoded data removed]",
      "text/plain": [
       "<Figure size 720x288 with 2 Axes>"
      ]
     },
     "metadata": {
      "needs_background": "light"
     },
     "output_type": "display_data"
    }
   ],
   "source": [
    "from sklearn.metrics import classification_report, roc_curve, auc\n",
    "\n",
    "# ROC curve: training\n",
    "y_pp = pd.DataFrame(lrcv.predict_proba(X_train), columns=['class_0_pp', 'class_1_pp'])\n",
    "fpr, tpr, threshold = roc_curve(y_train, y_pp.class_1_pp)\n",
    "roc_auc = auc(fpr, tpr)\n",
    "\n",
    "fig, ax = plt.subplots(ncols=2, figsize=(10,4))\n",
    "ax[0].plot(fpr, tpr, label='ROC curve (area = %0.2f)' % roc_auc, linewidth=4)\n",
    "ax[0].plot([0, 1], [0, 1], 'k--', linewidth=4)\n",
    "ax[0].set_xlabel('False Positive Rate')\n",
    "ax[0].set_ylabel('True Positive Rate')\n",
    "ax[0].legend(loc=\"lower right\")\n",
    "ax[0].set_title('ROC curve: training')\n",
    "\n",
    "# ROC Curve: test\n",
    "y_pp = pd.DataFrame(lrcv.predict_proba(X_test), columns=['class_0_pp', 'class_1_pp'])\n",
    "fpr, tpr, threshold = roc_curve(y_test, y_pp.class_1_pp)\n",
    "roc_auc = auc(fpr, tpr)\n",
    "\n",
    "ax[1].plot(fpr, tpr, label='ROC curve (area = %0.2f)' % roc_auc, linewidth=4)\n",
    "ax[1].plot([0, 1], [0, 1], 'k--', linewidth=4)\n",
    "ax[1].set_xlabel('False Positive Rate')\n",
    "ax[1].set_ylabel('True Positive Rate')\n",
    "ax[1].legend(loc=\"lower right\")\n",
    "ax[1].set_title('ROC curve: test')\n",
    "\n",
    "plt.tight_layout();"
   ]
  },
  {
   "cell_type": "code",
   "execution_count": 46,
   "metadata": {
    "ExecuteTime": {
     "end_time": "2020-09-07T10:19:11.943759Z",
     "start_time": "2020-09-07T10:19:11.900900Z"
    }
   },
   "outputs": [
    {
     "name": "stdout",
     "output_type": "stream",
     "text": [
      "              precision    recall  f1-score   support\n",
      "\n",
      "           0       0.84      1.00      0.92        27\n",
      "           1       1.00      0.67      0.80        15\n",
      "\n",
      "    accuracy                           0.88        42\n",
      "   macro avg       0.92      0.83      0.86        42\n",
      "weighted avg       0.90      0.88      0.87        42\n",
      "\n"
     ]
    }
   ],
   "source": [
    "print(classification_report(y_test, lrcv.predict(X_test)))"
   ]
  },
  {
   "cell_type": "markdown",
   "metadata": {},
   "source": [
    "### Decision Tree"
   ]
  },
  {
   "cell_type": "code",
   "execution_count": 53,
   "metadata": {
    "ExecuteTime": {
     "end_time": "2020-09-07T10:22:29.654420Z",
     "start_time": "2020-09-07T10:22:29.431688Z"
    }
   },
   "outputs": [
    {
     "name": "stdout",
     "output_type": "stream",
     "text": [
      "{'max_depth': 5}\n",
      "0.9199999999999999\n"
     ]
    }
   ],
   "source": [
    "from sklearn.tree import DecisionTreeClassifier\n",
    "from sklearn.model_selection import GridSearchCV\n",
    "\n",
    "dt = DecisionTreeClassifier()\n",
    "params = {'max_depth': range(2,10)}\n",
    "\n",
    "gs_dt = GridSearchCV(dt, params)\n",
    "gs_dt.fit(X_train, y_train)\n",
    "print(gs_dt.best_params_)\n",
    "print(gs_dt.best_score_)"
   ]
  },
  {
   "cell_type": "code",
   "execution_count": 61,
   "metadata": {
    "ExecuteTime": {
     "end_time": "2020-09-07T10:31:37.801210Z",
     "start_time": "2020-09-07T10:31:37.775802Z"
    }
   },
   "outputs": [
    {
     "data": {
      "text/html": [
       "<div>\n",
       "<style scoped>\n",
       "    .dataframe tbody tr th:only-of-type {\n",
       "        vertical-align: middle;\n",
       "    }\n",
       "\n",
       "    .dataframe tbody tr th {\n",
       "        vertical-align: top;\n",
       "    }\n",
       "\n",
       "    .dataframe thead th {\n",
       "        text-align: right;\n",
       "    }\n",
       "</style>\n",
       "<table border=\"1\" class=\"dataframe\">\n",
       "  <thead>\n",
       "    <tr style=\"text-align: right;\">\n",
       "      <th></th>\n",
       "      <th>coefficients</th>\n",
       "    </tr>\n",
       "  </thead>\n",
       "  <tbody>\n",
       "    <tr>\n",
       "      <th>num_invalidIssuer</th>\n",
       "      <td>0.305623</td>\n",
       "    </tr>\n",
       "    <tr>\n",
       "      <th>orderamount_avg</th>\n",
       "      <td>0.298243</td>\n",
       "    </tr>\n",
       "    <tr>\n",
       "      <th>customer_duped</th>\n",
       "      <td>0.183374</td>\n",
       "    </tr>\n",
       "    <tr>\n",
       "      <th>num_paymentmethods</th>\n",
       "      <td>0.102900</td>\n",
       "    </tr>\n",
       "    <tr>\n",
       "      <th>orderamount_max</th>\n",
       "      <td>0.076012</td>\n",
       "    </tr>\n",
       "    <tr>\n",
       "      <th>num_orders</th>\n",
       "      <td>0.033848</td>\n",
       "    </tr>\n",
       "    <tr>\n",
       "      <th>num_transactions</th>\n",
       "      <td>0.000000</td>\n",
       "    </tr>\n",
       "    <tr>\n",
       "      <th>num_failedtransaction</th>\n",
       "      <td>0.000000</td>\n",
       "    </tr>\n",
       "  </tbody>\n",
       "</table>\n",
       "</div>"
      ],
      "text/plain": [
       "                       coefficients\n",
       "num_invalidIssuer          0.305623\n",
       "orderamount_avg            0.298243\n",
       "customer_duped             0.183374\n",
       "num_paymentmethods         0.102900\n",
       "orderamount_max            0.076012\n",
       "num_orders                 0.033848\n",
       "num_transactions           0.000000\n",
       "num_failedtransaction      0.000000"
      ]
     },
     "execution_count": 61,
     "metadata": {},
     "output_type": "execute_result"
    }
   ],
   "source": [
    "gs_dt_coefficients = pd.DataFrame(gs_dt.best_estimator_.feature_importances_,\n",
    "                                  index=X.columns,\n",
    "                                  columns=['coefficients']).sort_values('coefficients',ascending=False)\n",
    "gs_dt_coefficients"
   ]
  },
  {
   "cell_type": "markdown",
   "metadata": {},
   "source": [
    "The most important features remain:\n",
    "- the number of incomplete payment details a customer has provided,\n",
    "- the size of the order amounts,\n",
    "- whether or not accounts have customer details in common,\n",
    "- the number of payment methods provided by a customer,"
   ]
  },
  {
   "cell_type": "code",
   "execution_count": 55,
   "metadata": {
    "ExecuteTime": {
     "end_time": "2020-09-07T10:26:46.371420Z",
     "start_time": "2020-09-07T10:26:45.466275Z"
    }
   },
   "outputs": [
    {
     "data": {
      "image/png": "[encoded data removed]",
      "text/plain": [
       "<Figure size 720x288 with 2 Axes>"
      ]
     },
     "metadata": {
      "needs_background": "light"
     },
     "output_type": "display_data"
    }
   ],
   "source": [
    "# ROC curve: training\n",
    "y_pp = pd.DataFrame(gs_dt.predict_proba(X_train), columns=['class_0_pp', 'class_1_pp'])\n",
    "fpr, tpr, threshold = roc_curve(y_train, y_pp.class_1_pp)\n",
    "roc_auc = auc(fpr, tpr)\n",
    "\n",
    "fig, ax = plt.subplots(ncols=2, figsize=(10,4))\n",
    "ax[0].plot(fpr, tpr, label='ROC curve (area = %0.2f)' % roc_auc, linewidth=4)\n",
    "ax[0].plot([0, 1], [0, 1], 'k--', linewidth=4)\n",
    "ax[0].set_xlabel('False Positive Rate')\n",
    "ax[0].set_ylabel('True Positive Rate')\n",
    "ax[0].legend(loc=\"lower right\")\n",
    "ax[0].set_title('ROC curve: training')\n",
    "\n",
    "# ROC Curve: test\n",
    "y_pp = pd.DataFrame(gs_dt.predict_proba(X_test), columns=['class_0_pp', 'class_1_pp'])\n",
    "fpr, tpr, threshold = roc_curve(y_test, y_pp.class_1_pp)\n",
    "roc_auc = auc(fpr, tpr)\n",
    "\n",
    "ax[1].plot(fpr, tpr, label='ROC curve (area = %0.2f)' % roc_auc, linewidth=4)\n",
    "ax[1].plot([0, 1], [0, 1], 'k--', linewidth=4)\n",
    "ax[1].set_xlabel('False Positive Rate')\n",
    "ax[1].set_ylabel('True Positive Rate')\n",
    "ax[1].legend(loc=\"lower right\")\n",
    "ax[1].set_title('ROC curve: test')\n",
    "\n",
    "plt.tight_layout();"
   ]
  },
  {
   "cell_type": "code",
   "execution_count": 54,
   "metadata": {
    "ExecuteTime": {
     "end_time": "2020-09-07T10:22:55.365900Z",
     "start_time": "2020-09-07T10:22:55.340090Z"
    }
   },
   "outputs": [
    {
     "name": "stdout",
     "output_type": "stream",
     "text": [
      "              precision    recall  f1-score   support\n",
      "\n",
      "           0       0.93      1.00      0.96        27\n",
      "           1       1.00      0.87      0.93        15\n",
      "\n",
      "    accuracy                           0.95        42\n",
      "   macro avg       0.97      0.93      0.95        42\n",
      "weighted avg       0.96      0.95      0.95        42\n",
      "\n"
     ]
    }
   ],
   "source": [
    "print(classification_report(y_test, gs_dt.predict(X_test)))"
   ]
  },
  {
   "cell_type": "markdown",
   "metadata": {},
   "source": [
    "- Looking at the Classification Report, the DecisionTreeClassifier appears to achieve a better Recall on Fraudulent customers (label = 1), and better Precision for non-Fraudulent customers.\n",
    "- It seems more of the Fraudulent customers are being correctly assigned."
   ]
  },
  {
   "cell_type": "markdown",
   "metadata": {},
   "source": [
    "### Gradient Boosting"
   ]
  },
  {
   "cell_type": "code",
   "execution_count": 64,
   "metadata": {
    "ExecuteTime": {
     "end_time": "2020-09-07T10:45:53.079271Z",
     "start_time": "2020-09-07T10:45:47.957745Z"
    }
   },
   "outputs": [
    {
     "name": "stdout",
     "output_type": "stream",
     "text": [
      "{'learning_rate': 0.1, 'max_depth': 2}\n",
      "0.9039999999999999\n"
     ]
    }
   ],
   "source": [
    "from sklearn.ensemble import GradientBoostingClassifier\n",
    "\n",
    "gb = GradientBoostingClassifier()\n",
    "params = {'learning_rate': np.linspace(.01,0.1,4),\n",
    "          'max_depth': range(2,5)}\n",
    "\n",
    "gs_gb = GridSearchCV(gb, params)\n",
    "gs_gb.fit(X_train, y_train)\n",
    "print(gs_gb.best_params_)\n",
    "print(gs_gb.best_score_)"
   ]
  },
  {
   "cell_type": "code",
   "execution_count": 75,
   "metadata": {
    "ExecuteTime": {
     "end_time": "2020-09-07T10:55:00.982501Z",
     "start_time": "2020-09-07T10:55:00.902438Z"
    }
   },
   "outputs": [
    {
     "data": {
      "text/html": [
       "<div>\n",
       "<style scoped>\n",
       "    .dataframe tbody tr th:only-of-type {\n",
       "        vertical-align: middle;\n",
       "    }\n",
       "\n",
       "    .dataframe tbody tr th {\n",
       "        vertical-align: top;\n",
       "    }\n",
       "\n",
       "    .dataframe thead th {\n",
       "        text-align: right;\n",
       "    }\n",
       "</style>\n",
       "<table border=\"1\" class=\"dataframe\">\n",
       "  <thead>\n",
       "    <tr style=\"text-align: right;\">\n",
       "      <th></th>\n",
       "      <th>coefficients</th>\n",
       "    </tr>\n",
       "  </thead>\n",
       "  <tbody>\n",
       "    <tr>\n",
       "      <th>num_invalidIssuer</th>\n",
       "      <td>0.311129</td>\n",
       "    </tr>\n",
       "    <tr>\n",
       "      <th>orderamount_avg</th>\n",
       "      <td>0.244104</td>\n",
       "    </tr>\n",
       "    <tr>\n",
       "      <th>customer_duped</th>\n",
       "      <td>0.137257</td>\n",
       "    </tr>\n",
       "    <tr>\n",
       "      <th>num_paymentmethods</th>\n",
       "      <td>0.137088</td>\n",
       "    </tr>\n",
       "    <tr>\n",
       "      <th>orderamount_max</th>\n",
       "      <td>0.131792</td>\n",
       "    </tr>\n",
       "    <tr>\n",
       "      <th>num_failedtransaction</th>\n",
       "      <td>0.020659</td>\n",
       "    </tr>\n",
       "    <tr>\n",
       "      <th>num_transactions</th>\n",
       "      <td>0.013089</td>\n",
       "    </tr>\n",
       "    <tr>\n",
       "      <th>num_orders</th>\n",
       "      <td>0.004883</td>\n",
       "    </tr>\n",
       "  </tbody>\n",
       "</table>\n",
       "</div>"
      ],
      "text/plain": [
       "                       coefficients\n",
       "num_invalidIssuer          0.311129\n",
       "orderamount_avg            0.244104\n",
       "customer_duped             0.137257\n",
       "num_paymentmethods         0.137088\n",
       "orderamount_max            0.131792\n",
       "num_failedtransaction      0.020659\n",
       "num_transactions           0.013089\n",
       "num_orders                 0.004883"
      ]
     },
     "execution_count": 75,
     "metadata": {},
     "output_type": "execute_result"
    }
   ],
   "source": [
    "gs_gb_coefficients = pd.DataFrame(gs_gb.best_estimator_.feature_importances_,\n",
    "                                  index=X.columns,\n",
    "                                  columns=['coefficients']).sort_values('coefficients',ascending=False)\n",
    "gs_gb_coefficients"
   ]
  },
  {
   "cell_type": "markdown",
   "metadata": {},
   "source": [
    "Similar order of importances as before, this time all of the features have been used in the Classifier model, whereas before 2 features had 0 importance."
   ]
  },
  {
   "cell_type": "code",
   "execution_count": 67,
   "metadata": {
    "ExecuteTime": {
     "end_time": "2020-09-07T10:46:47.255829Z",
     "start_time": "2020-09-07T10:46:46.646045Z"
    }
   },
   "outputs": [
    {
     "data": {
      "image/png": "[encoded data removed]",
      "text/plain": [
       "<Figure size 720x288 with 2 Axes>"
      ]
     },
     "metadata": {
      "needs_background": "light"
     },
     "output_type": "display_data"
    }
   ],
   "source": [
    "# ROC curve: training\n",
    "y_pp = pd.DataFrame(gs_gb.predict_proba(X_train), columns=['class_0_pp', 'class_1_pp'])\n",
    "fpr, tpr, threshold = roc_curve(y_train, y_pp.class_1_pp)\n",
    "roc_auc = auc(fpr, tpr)\n",
    "\n",
    "fig, ax = plt.subplots(ncols=2, figsize=(10,4))\n",
    "ax[0].plot(fpr, tpr, label='ROC curve (area = %0.2f)' % roc_auc, linewidth=4)\n",
    "ax[0].plot([0, 1], [0, 1], 'k--', linewidth=4)\n",
    "ax[0].set_xlabel('False Positive Rate')\n",
    "ax[0].set_ylabel('True Positive Rate')\n",
    "ax[0].legend(loc=\"lower right\")\n",
    "ax[0].set_title('ROC curve: training')\n",
    "\n",
    "# ROC Curve: test\n",
    "y_pp = pd.DataFrame(gs_gb.predict_proba(X_test), columns=['class_0_pp', 'class_1_pp'])\n",
    "fpr, tpr, threshold = roc_curve(y_test, y_pp.class_1_pp)\n",
    "roc_auc = auc(fpr, tpr)\n",
    "\n",
    "ax[1].plot(fpr, tpr, label='ROC curve (area = %0.2f)' % roc_auc, linewidth=4)\n",
    "ax[1].plot([0, 1], [0, 1], 'k--', linewidth=4)\n",
    "ax[1].set_xlabel('False Positive Rate')\n",
    "ax[1].set_ylabel('True Positive Rate')\n",
    "ax[1].legend(loc=\"lower right\")\n",
    "ax[1].set_title('ROC curve: test')\n",
    "\n",
    "plt.tight_layout();"
   ]
  },
  {
   "cell_type": "code",
   "execution_count": 66,
   "metadata": {
    "ExecuteTime": {
     "end_time": "2020-09-07T10:46:28.054114Z",
     "start_time": "2020-09-07T10:46:28.030890Z"
    }
   },
   "outputs": [
    {
     "name": "stdout",
     "output_type": "stream",
     "text": [
      "              precision    recall  f1-score   support\n",
      "\n",
      "           0       0.93      1.00      0.96        27\n",
      "           1       1.00      0.87      0.93        15\n",
      "\n",
      "    accuracy                           0.95        42\n",
      "   macro avg       0.97      0.93      0.95        42\n",
      "weighted avg       0.96      0.95      0.95        42\n",
      "\n"
     ]
    }
   ],
   "source": [
    "print(classification_report(y_test, gs_gb.predict(X_test)))"
   ]
  },
  {
   "cell_type": "markdown",
   "metadata": {},
   "source": [
    "## Conclusion"
   ]
  },
  {
   "cell_type": "markdown",
   "metadata": {},
   "source": [
    "GradientBoostingClassifier appears to be the best model:\n",
    "- Better ROC-AUC curves,\n",
    "- Higher Precision / Recall for both classes in the Classification Report, overall > 90%\n",
    "- Used all of the features unlike the Decision Tree"
   ]
  },
  {
   "cell_type": "code",
   "execution_count": null,
   "metadata": {},
   "outputs": [],
   "source": []
  }
 ],
 "metadata": {
  "kernelspec": {
   "display_name": "nlp_architect",
   "language": "python",
   "name": "nlp_architect"
  },
  "language_info": {
   "codemirror_mode": {
    "name": "ipython",
    "version": 3
   },
   "file_extension": ".py",
   "mimetype": "text/x-python",
   "name": "python",
   "nbconvert_exporter": "python",
   "pygments_lexer": "ipython3",
   "version": "3.7.3"
  },
  "toc": {
   "base_numbering": 1,
   "nav_menu": {},
   "number_sections": true,
   "sideBar": true,
   "skip_h1_title": true,
   "title_cell": "Table of Contents",
   "title_sidebar": "Contents",
   "toc_cell": false,
   "toc_position": {},
   "toc_section_display": true,
   "toc_window_display": true
  },
  "varInspector": {
   "cols": {
    "lenName": 16,
    "lenType": 16,
    "lenVar": 40
   },
   "kernels_config": {
    "python": {
     "delete_cmd_postfix": "",
     "delete_cmd_prefix": "del ",
     "library": "var_list.py",
     "varRefreshCmd": "print(var_dic_list())"
    },
    "r": {
     "delete_cmd_postfix": ") ",
     "delete_cmd_prefix": "rm(",
     "library": "var_list.r",
     "varRefreshCmd": "cat(var_dic_list()) "
    }
   },
   "types_to_exclude": [
    "module",
    "function",
    "builtin_function_or_method",
    "instance",
    "_Feature"
   ],
   "window_display": false
  }
 },
 "nbformat": 4,
 "nbformat_minor": 4
}
